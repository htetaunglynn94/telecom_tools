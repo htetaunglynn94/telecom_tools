{
 "cells": [
  {
   "cell_type": "code",
   "execution_count": 4,
   "id": "849bc61c-e691-4a67-b6ea-510c772fa8cf",
   "metadata": {},
   "outputs": [
    {
     "name": "stderr",
     "output_type": "stream",
     "text": [
      "C:\\Users\\HTETAU~1\\AppData\\Local\\Temp/ipykernel_7908/3606257834.py:16: FutureWarning: In a future version of pandas all arguments of DataFrame.dropna will be keyword-only\n",
      "  filter = filter.dropna(0)\n"
     ]
    }
   ],
   "source": [
    "import pandas as pd\n",
    "\n",
    "ncell = 'LTE_Ncell.csv'\n",
    "vlcell = 'VL.xlsx'\n",
    "\n",
    "dfvl = pd.read_excel(vlcell)\n",
    "\n",
    "#conn = sq3.connect(ncell)\n",
    "#cursor = conn.cursor()\n",
    "#dfdb = pd.read_sql_query('SELECT * FROM LTE_Ncell', conn)\n",
    "\n",
    "dfdb = pd.read_csv(ncell)\n",
    "result = dfdb.merge(dfvl, how='right', on = 'local_cell_name')\n",
    "\n",
    "filter = result.loc[:,['local_cell_name', 'target_cell_name', 'l.hho.ncell.execattout']]\n",
    "filter = filter.fillna(0)\n",
    "filter['l.hho.ncell.execattout'] = filter['l.hho.ncell.execattout'].astype(int)\n",
    "\n",
    "result1 = filter.sort_values(by=['local_cell_name', 'l.hho.ncell.execattout'], \n",
    "           ascending = [True,False])\n",
    "\n",
    "count = len(result1.index)\n",
    "\n",
    "result1 = result1.reset_index()\n",
    "result1.loc[0,'Rank'] = 1\n",
    "\n",
    "for i in range(1,count):\n",
    "    if result1.loc[i,'local_cell_name'] == result1.loc[i-1,'local_cell_name']:\n",
    "      result1.loc[i,'Rank'] = result1.loc[i-1,'Rank'] + 1\n",
    "    else: result1.loc[i,'Rank'] = 1\n",
    "\n",
    "result1['Rank'] = result1['Rank'].astype(int)\n",
    "result1.to_excel('LTE_Ncell_Final.xlsx',index=False)"
   ]
  },
  {
   "cell_type": "code",
   "execution_count": null,
   "id": "084e5aed-89f6-4138-873e-8e41b80be3ca",
   "metadata": {},
   "outputs": [],
   "source": []
  },
  {
   "cell_type": "code",
   "execution_count": null,
   "id": "8d6e6443-b351-4756-ac62-0efa746f6618",
   "metadata": {},
   "outputs": [],
   "source": []
  }
 ],
 "metadata": {
  "kernelspec": {
   "display_name": "Python 3 (ipykernel)",
   "language": "python",
   "name": "python3"
  },
  "language_info": {
   "codemirror_mode": {
    "name": "ipython",
    "version": 3
   },
   "file_extension": ".py",
   "mimetype": "text/x-python",
   "name": "python",
   "nbconvert_exporter": "python",
   "pygments_lexer": "ipython3",
   "version": "3.9.6"
  }
 },
 "nbformat": 4,
 "nbformat_minor": 5
}
