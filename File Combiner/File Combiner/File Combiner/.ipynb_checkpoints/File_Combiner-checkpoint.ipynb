{
 "cells": [
  {
   "cell_type": "code",
   "execution_count": 67,
   "id": "acf5c14a-f5f1-4a3a-9171-99c558b0da91",
   "metadata": {},
   "outputs": [],
   "source": [
    "import numpy as np\n",
    "import pandas as pd\n",
    "import os\n",
    "import math"
   ]
  },
  {
   "cell_type": "markdown",
   "id": "fb6680af-a1dd-496f-ab0f-50dfb7ddc8cd",
   "metadata": {},
   "source": [
    "# Operation Code"
   ]
  },
  {
   "cell_type": "code",
   "execution_count": 2,
   "id": "3a294841-3b0e-4707-98ff-1cbf9ccd8798",
   "metadata": {},
   "outputs": [
    {
     "name": "stdout",
     "output_type": "stream",
     "text": [
      "Operation completed.\n"
     ]
    }
   ],
   "source": [
    "import numpy as np\n",
    "import pandas as pd\n",
    "import os\n",
    "import math\n",
    "\n",
    "fout_type = '.xlsx'\n",
    "#['csv', 'json', 'html', 'xlsx', 'xls', 'xlsb']\n",
    "fin_type = '.xlsb'\n",
    "#['csv', 'json', 'html', 'xlsx', 'xls', 'xlsb']\n",
    "\n",
    "f_lst = os.listdir()\n",
    "df = pd.DataFrame()\n",
    "for f in f_lst:\n",
    "        if ((f[-5::] == '.xlsx') or (f[-5::] == '.xlsb') or (f[-4::] == '.xls')):\n",
    "            df = df.append(pd.read_excel(f), ignore_index=True)\n",
    "            \n",
    "        elif f[-4::] == '.csv':\n",
    "            df = df.append(pd.read_csv(f), ignore_index=True)\n",
    "            print(f + ' is imported.')\n",
    "        elif f[-5::] == '.json':\n",
    "            df = df.append(pd.read_json(f), ignore_index=True)\n",
    "        elif f[-5::] == '.html':\n",
    "            df = df.append(pd.read_html(f), ignore_index=True)\n",
    "\n",
    "            \n",
    "            \n",
    "if ((fout_type == '.xlsx') or (fout_type == '.xlsb') or (fout_type == '.xls')):\n",
    "    rows_per_sheet = 8\n",
    "    number_of_sheets = math.floor(len(df) / rows_per_sheet)+1\n",
    "    start_index = 0\n",
    "    end_index = rows_per_sheet\n",
    "    writer = pd.ExcelWriter('Combined result'+fout_type)\n",
    "    for i in range(number_of_sheets):\n",
    "        df = pd.DataFrame(df[start_index:end_index], columns = df.columns)\n",
    "        df.to_excel(writer, index=False, sheet_name='Sheet_'+str(i+1))\n",
    "        start_index = end_index + 1\n",
    "        end_index = end_index + rows_per_sheet\n",
    "    writer.save()\n",
    "elif fout_type == '.csv':\n",
    "    df.to_csv('Combined result'+fout_type, index=False)\n",
    "elif fout_type == '.html':\n",
    "    df.to_html('Combined result'+fout_type)\n",
    "elif fout_type == '.json':\n",
    "    df.to_json('Combined result'+fout_type)\n",
    "print('Operation completed.')"
   ]
  },
  {
   "cell_type": "code",
   "execution_count": 3,
   "id": "e6c264bd-41d4-4eb9-b76a-73bfb0959cd7",
   "metadata": {},
   "outputs": [
    {
     "name": "stdout",
     "output_type": "stream",
     "text": [
      "Operation completed.\n"
     ]
    }
   ],
   "source": [
    "import numpy as np\n",
    "import pandas as pd\n",
    "import os\n",
    "import math\n",
    "\n",
    "fout_type = '.xlsx'\n",
    "#['csv', 'json', 'html', 'xlsx', 'xls', 'xlsb']\n",
    "fin_type = '.xlsb'\n",
    "#['csv', 'json', 'html', 'xlsx', 'xls', 'xlsb']\n",
    "\n",
    "f_lst = os.listdir()\n",
    "df = pd.DataFrame()\n",
    "for f in f_lst:\n",
    "    if ((f[-5::] == '.xlsx') or (f[-5::] == '.xlsb') or (f[-4::] == '.xls')):\n",
    "        df = df.append(pd.read_excel(f), ignore_index=True)\n",
    "            \n",
    "    elif f[-4::] == '.csv':\n",
    "        df = df.append(pd.read_csv(f), ignore_index=True)\n",
    "        print(f + ' is imported.')\n",
    "    elif f[-5::] == '.json':\n",
    "        df = df.append(pd.read_json(f), ignore_index=True)\n",
    "    elif f[-5::] == '.html':\n",
    "            df = df.append(pd.read_html(f), ignore_index=True)\n",
    "\n",
    "            \n",
    "if ((fout_type == '.xlsx') or (fout_type == '.xlsb') or (fout_type == '.xls')):\n",
    "    df.to_excel('Combined result'+fout_type, index=False)\n",
    "elif fout_type == '.csv':\n",
    "    df.to_csv('Combined result'+fout_type, index=False)\n",
    "elif fout_type == '.html':\n",
    "    df.to_html('Combined result'+fout_type)\n",
    "elif fout_type == '.json':\n",
    "    df.to_json('Combined result'+fout_type)\n",
    "print('Operation completed.')"
   ]
  },
  {
   "cell_type": "code",
   "execution_count": 4,
   "id": "31383564-1f74-4ef9-ab67-8e3522208ce9",
   "metadata": {},
   "outputs": [
    {
     "data": {
      "text/html": [
       "<div>\n",
       "<style scoped>\n",
       "    .dataframe tbody tr th:only-of-type {\n",
       "        vertical-align: middle;\n",
       "    }\n",
       "\n",
       "    .dataframe tbody tr th {\n",
       "        vertical-align: top;\n",
       "    }\n",
       "\n",
       "    .dataframe thead th {\n",
       "        text-align: right;\n",
       "    }\n",
       "</style>\n",
       "<table border=\"1\" class=\"dataframe\">\n",
       "  <thead>\n",
       "    <tr style=\"text-align: right;\">\n",
       "      <th></th>\n",
       "      <th>Name</th>\n",
       "      <th>ID</th>\n",
       "      <th>Score</th>\n",
       "      <th>Roll number</th>\n",
       "    </tr>\n",
       "  </thead>\n",
       "  <tbody>\n",
       "    <tr>\n",
       "      <th>0</th>\n",
       "      <td>Kyaw Kyaw</td>\n",
       "      <td>142</td>\n",
       "      <td>35</td>\n",
       "      <td>St-31</td>\n",
       "    </tr>\n",
       "    <tr>\n",
       "      <th>1</th>\n",
       "      <td>Kyaw Kyaw</td>\n",
       "      <td>142</td>\n",
       "      <td>35</td>\n",
       "      <td>St-31</td>\n",
       "    </tr>\n",
       "    <tr>\n",
       "      <th>2</th>\n",
       "      <td>Kyaw Kyaw</td>\n",
       "      <td>142</td>\n",
       "      <td>35</td>\n",
       "      <td>St-31</td>\n",
       "    </tr>\n",
       "    <tr>\n",
       "      <th>3</th>\n",
       "      <td>Mu Mu</td>\n",
       "      <td>103</td>\n",
       "      <td>51</td>\n",
       "      <td>St-22</td>\n",
       "    </tr>\n",
       "    <tr>\n",
       "      <th>4</th>\n",
       "      <td>Mu Mu</td>\n",
       "      <td>103</td>\n",
       "      <td>51</td>\n",
       "      <td>St-22</td>\n",
       "    </tr>\n",
       "    <tr>\n",
       "      <th>...</th>\n",
       "      <td>...</td>\n",
       "      <td>...</td>\n",
       "      <td>...</td>\n",
       "      <td>...</td>\n",
       "    </tr>\n",
       "    <tr>\n",
       "      <th>64</th>\n",
       "      <td>Su Su</td>\n",
       "      <td>59</td>\n",
       "      <td>88</td>\n",
       "      <td>St-23</td>\n",
       "    </tr>\n",
       "    <tr>\n",
       "      <th>65</th>\n",
       "      <td>Thu Thu</td>\n",
       "      <td>94</td>\n",
       "      <td>73</td>\n",
       "      <td>St-35</td>\n",
       "    </tr>\n",
       "    <tr>\n",
       "      <th>66</th>\n",
       "      <td>Thu Thu</td>\n",
       "      <td>94</td>\n",
       "      <td>73</td>\n",
       "      <td>St-35</td>\n",
       "    </tr>\n",
       "    <tr>\n",
       "      <th>67</th>\n",
       "      <td>Su Su</td>\n",
       "      <td>59</td>\n",
       "      <td>88</td>\n",
       "      <td>St-23</td>\n",
       "    </tr>\n",
       "    <tr>\n",
       "      <th>68</th>\n",
       "      <td>Su Su</td>\n",
       "      <td>59</td>\n",
       "      <td>88</td>\n",
       "      <td>St-23</td>\n",
       "    </tr>\n",
       "  </tbody>\n",
       "</table>\n",
       "<p>69 rows × 4 columns</p>\n",
       "</div>"
      ],
      "text/plain": [
       "          Name   ID  Score Roll number\n",
       "0   Kyaw Kyaw   142     35       St-31\n",
       "1   Kyaw Kyaw   142     35       St-31\n",
       "2   Kyaw Kyaw   142     35       St-31\n",
       "3        Mu Mu  103     51       St-22\n",
       "4        Mu Mu  103     51       St-22\n",
       "..         ...  ...    ...         ...\n",
       "64       Su Su   59     88       St-23\n",
       "65     Thu Thu   94     73       St-35\n",
       "66     Thu Thu   94     73       St-35\n",
       "67       Su Su   59     88       St-23\n",
       "68       Su Su   59     88       St-23\n",
       "\n",
       "[69 rows x 4 columns]"
      ]
     },
     "execution_count": 4,
     "metadata": {},
     "output_type": "execute_result"
    }
   ],
   "source": [
    "df"
   ]
  },
  {
   "cell_type": "code",
   "execution_count": 5,
   "id": "6afcc2bd-2e1b-4aac-a259-463535b940c6",
   "metadata": {},
   "outputs": [],
   "source": [
    "rows_per_sheet = 8\n",
    "number_of_sheets = math.floor(len(df) / rows_per_sheet)+1\n",
    "start_index = 0\n",
    "end_index = rows_per_sheet\n",
    "writer = pd.ExcelWriter('Result.xlsx')\n",
    "for i in range(number_of_sheets):\n",
    "    dfn = pd.DataFrame(df[start_index:end_index], columns = df.columns)\n",
    "    dfn.to_excel(writer, index=False, sheet_name='Sheet_'+str(i+1))\n",
    "    start_index = end_index + 1\n",
    "    end_index = end_index + rows_per_sheet\n",
    "writer.save()"
   ]
  },
  {
   "cell_type": "code",
   "execution_count": 74,
   "id": "edc4acd0-6dca-4d08-8370-8b15470ce7f8",
   "metadata": {},
   "outputs": [
    {
     "name": "stdout",
     "output_type": "stream",
     "text": [
      "0\n",
      "1\n",
      "2\n"
     ]
    }
   ],
   "source": [
    "for i in range(number_of_sheets):\n",
    "    print(i)"
   ]
  },
  {
   "cell_type": "code",
   "execution_count": null,
   "id": "32e1ec13-7e33-48f6-9f24-4e91703bcc12",
   "metadata": {},
   "outputs": [],
   "source": [
    "rows_per_sheet = 8\n",
    "number_of_sheets = math.floor((len(df)/rows_per_sheet))+1\n",
    "start_index=0\n",
    "end_index = rows_per_sheet\n",
    "writer = pd.ExcelWriter(filename)\n",
    "for i in range(number_of_sheets):\n",
    "    df = pd.DataFrame(list(data[start_index:end_index]), columns=columns)\n",
    "    df.to_excel(writer, index=False, sheet_name='sheet_'+str(i))\n",
    "    start_index = end_index\n",
    "    end_index = end_index + rows_per_sheet\n",
    "    \n",
    "\n",
    "writer.save()"
   ]
  },
  {
   "cell_type": "code",
   "execution_count": 70,
   "id": "0da11f5b-0230-4214-9bf5-b75bd0e2f3e7",
   "metadata": {},
   "outputs": [
    {
     "data": {
      "text/plain": [
       "2"
      ]
     },
     "execution_count": 70,
     "metadata": {},
     "output_type": "execute_result"
    }
   ],
   "source": [
    "x = 2.5345\n",
    "math.floor(x)"
   ]
  },
  {
   "cell_type": "code",
   "execution_count": 47,
   "id": "430ed8f4-8aa3-4a76-b262-ded0b7f06fd2",
   "metadata": {},
   "outputs": [
    {
     "name": "stdout",
     "output_type": "stream",
     "text": [
      "ZTE Cell Level Backup_Daily_April_2022 (UMTS)_April 01 to 16.csv is imported.\n",
      "ZTE Cell Level Backup_Daily_Dec_2022(UMTS)_Dec 1 to 15.csv is imported.\n",
      "ZTE Cell Level Backup_Daily_Feb_2022 (UMTS)_Feb 16 to 28.csv is imported.\n",
      "ZTE Cell Level Backup_Daily_Jan_2023(UMTS)_Jan 16 to 31.csv is imported.\n",
      "ZTE Cell Level Backup_Daily_July_2022(UMTS)_16 to 31.csv is imported.\n",
      "ZTE Cell Level Backup_Daily_June_2022 (UMTS)_June 17 to 30.csv is imported.\n",
      "ZTE Cell Level Backup_Daily_March_2022 (UMTS)_March 16 to 31.csv is imported.\n",
      "ZTE Cell Level Backup_Daily_May_2022 (UMTS)_May 16 to 31.csv is imported.\n",
      "ZTE Cell Level Backup_Daily_Nov_2022(UMTS)_Nov 16 to 30.csv is imported.\n",
      "ZTE Cell Level Backup_Daily_Oct_2022(UMTS)_Oct  16 to 31.csv is imported.\n",
      "ZTE Cell Level Backup_Daily_Sept_2022(UMTS)_Sept 16 to 30.csv is imported.\n",
      "ZTE Cell Level Backup_Daiy_August_2022(UMTS)_Aug 16 to 31.csv is imported.\n",
      "Operation completed.\n"
     ]
    }
   ],
   "source": [
    "import numpy as np\n",
    "import pandas as pd\n",
    "import os\n",
    "\n",
    "fout_type = '.xlsx'\n",
    "#['csv', 'json', 'html', 'xlsx', 'xls', 'xlsb']\n",
    "fin_type = '.csv'\n",
    "#['csv', 'json', 'html', 'xlsx', 'xls', 'xlsb']\n",
    "\n",
    "#site_ids = input('Enter \"Site ID\":')\n",
    "site_ids = 'UTSGG00164(OA)(113) UTSGG00142(OA)(114) UTSGG01118(OA)(169) UTSGG00828(OA)(463) UTSGG00865(OA)(479)'\n",
    "site_ids = site_ids.split(' ')\n",
    "\n",
    "\n",
    "f_lst = os.listdir()\n",
    "df = pd.DataFrame()\n",
    "for f in f_lst:\n",
    "        if ((f[-5::] == '.xlsx') or (f[-5::] == '.xlsb') or (f[-4::] == '.xls')):\n",
    "            df = df.append(pd.read_excel(f), ignore_index=True)\n",
    "        elif f[-4::] == '.csv':\n",
    "            data = pd.read_csv(f, usecols=['Start Time','NodeB Name', '903477:CSTraffic(erl)-y', '903478:PSTraffic(MB)-y'])\n",
    "            for site in site_ids:\n",
    "                dfc = data[data['NodeB Name'] == site]\n",
    "                df = df.append(dfc, ignore_index=True)\n",
    "            print(f + ' is imported.')\n",
    "        elif f[-5::] == '.json':\n",
    "            df = df.append(pd.read_json(f), ignore_index=True)\n",
    "        elif f[-5::] == '.html':\n",
    "            df = df.append(pd.read_html(f), ignore_index=True)\n",
    "\n",
    "            \n",
    "            \n",
    "if ((fout_type == '.xlsx') or (fout_type == '.xlsb') or (fout_type == '.xls')):\n",
    "    df.to_excel('Combined result'+fout_type, index=False)\n",
    "elif fout_type == '.csv':\n",
    "    df.to_csv('Combined result'+fout_type, index=False)\n",
    "elif fout_type == '.html':\n",
    "    df.to_html('Combined result'+fout_type)\n",
    "elif fout_type == '.json':\n",
    "    df.to_json('Combined result'+fout_type)\n",
    "print('Operation completed.')"
   ]
  },
  {
   "cell_type": "code",
   "execution_count": 21,
   "id": "c4dce2a3-48d6-4b5d-99c7-eb8ec0de8f3a",
   "metadata": {},
   "outputs": [
    {
     "data": {
      "text/plain": [
       "['UTSGG00164(OA)(113)',\n",
       " 'UTSGG00142(OA)(114)',\n",
       " 'UTSGG01118(OA)(169)',\n",
       " 'UTSGG00828(OA)(463)',\n",
       " 'UTSGG00865(OA)(479)']"
      ]
     },
     "execution_count": 21,
     "metadata": {},
     "output_type": "execute_result"
    }
   ],
   "source": [
    "site_ids = 'UTSGG00164(OA)(113) UTSGG00142(OA)(114) UTSGG01118(OA)(169) UTSGG00828(OA)(463) UTSGG00865(OA)(479)'\n",
    "site_ids = site_ids.split(' ')\n",
    "site_ids"
   ]
  },
  {
   "cell_type": "code",
   "execution_count": null,
   "id": "2ae602ce-5bb2-483a-9d14-ad2c5db949d8",
   "metadata": {},
   "outputs": [],
   "source": [
    "df[df['SITE Name'] == 'GNSGG00575(29)'].head()"
   ]
  },
  {
   "cell_type": "code",
   "execution_count": 4,
   "id": "70ce9466-b4ff-49b5-98d2-e6df8c634d73",
   "metadata": {},
   "outputs": [
    {
     "data": {
      "text/plain": [
       "Index(['Unnamed: 0', 'Unnamed: 1'], dtype='object')"
      ]
     },
     "execution_count": 4,
     "metadata": {},
     "output_type": "execute_result"
    }
   ],
   "source": [
    "df.columns"
   ]
  },
  {
   "cell_type": "code",
   "execution_count": null,
   "id": "f0d271b5-3b04-4ce4-9771-71a593c8ec0c",
   "metadata": {},
   "outputs": [],
   "source": [
    "import pandas as pd\n",
    "\n",
    "def splitframe(data, name='name'):\n",
    "    \n",
    "    n = data[name][0]\n",
    "\n",
    "    df = pd.DataFrame(columns=data.columns)\n",
    "\n",
    "    datalist = []\n",
    "\n",
    "    for i in range(len(data)):\n",
    "        if data[name][i] == n:\n",
    "            df = df.append(data.iloc[i])\n",
    "        else:\n",
    "            datalist.append(df)\n",
    "            df = pd.DataFrame(columns=data.columns)\n",
    "            n = data[name][i]\n",
    "            df = df.append(data.iloc[i])\n",
    "        \n",
    "    return datalist\n",
    "    "
   ]
  },
  {
   "cell_type": "code",
   "execution_count": 52,
   "id": "f7cb3d74-f414-41e5-9ba2-e5318cd4d68d",
   "metadata": {},
   "outputs": [
    {
     "data": {
      "text/plain": [
       "(420608, 4)"
      ]
     },
     "execution_count": 52,
     "metadata": {},
     "output_type": "execute_result"
    }
   ],
   "source": [
    "df1 = pd.read_csv('ZTE Cell Level Backup_Daily_Jan_2023(UMTS)_Jan 16 to 31.csv', usecols=['Start Time','NodeB Name', '903477:CSTraffic(erl)-y', '903478:PSTraffic(MB)-y'])\n",
    "df1.shape"
   ]
  },
  {
   "cell_type": "code",
   "execution_count": 55,
   "id": "ecd513d2-14c1-4312-950c-fce2a8f7de65",
   "metadata": {},
   "outputs": [],
   "source": [
    "df_new = df1[df1['NodeB Name'] == 'UTSGG00142(OA)(114)']"
   ]
  },
  {
   "cell_type": "code",
   "execution_count": 57,
   "id": "1cbd5632-3e80-4a70-be8a-ea8581603ecc",
   "metadata": {},
   "outputs": [
    {
     "data": {
      "text/plain": [
       "array([0.])"
      ]
     },
     "execution_count": 57,
     "metadata": {},
     "output_type": "execute_result"
    }
   ],
   "source": [
    "df_new['903477:CSTraffic(erl)-y'].unique()"
   ]
  },
  {
   "cell_type": "code",
   "execution_count": 49,
   "id": "f6bd98be-1a75-47be-85f7-f0c4f98233c8",
   "metadata": {},
   "outputs": [],
   "source": [
    "site_ids = 'UTSGG00164(OA)(113) UTSGG00142(OA)(114) UTSGG01118(OA)(169) UTSGG00828(OA)(463) UTSGG00865(OA)(479)'\n",
    "site_ids = site_ids.split(' ')"
   ]
  },
  {
   "cell_type": "code",
   "execution_count": 30,
   "id": "476ec2ff-d63f-487a-83be-c07d41d2601c",
   "metadata": {},
   "outputs": [
    {
     "data": {
      "text/plain": [
       "(496, 4)"
      ]
     },
     "execution_count": 30,
     "metadata": {},
     "output_type": "execute_result"
    }
   ],
   "source": [
    "dfc = pd.DataFrame()\n",
    "for site in site_ids:\n",
    "    data = df1[df1['NodeB Name'] == site]\n",
    "    dfc = dfc.append(data, ignore_index=True)\n",
    "dfc.shape"
   ]
  },
  {
   "cell_type": "code",
   "execution_count": 39,
   "id": "86331ae6-a51a-416a-af48-5d5c56f74a60",
   "metadata": {},
   "outputs": [
    {
     "data": {
      "text/html": [
       "<div>\n",
       "<style scoped>\n",
       "    .dataframe tbody tr th:only-of-type {\n",
       "        vertical-align: middle;\n",
       "    }\n",
       "\n",
       "    .dataframe tbody tr th {\n",
       "        vertical-align: top;\n",
       "    }\n",
       "\n",
       "    .dataframe thead th {\n",
       "        text-align: right;\n",
       "    }\n",
       "</style>\n",
       "<table border=\"1\" class=\"dataframe\">\n",
       "  <thead>\n",
       "    <tr style=\"text-align: right;\">\n",
       "      <th></th>\n",
       "      <th>Start Time</th>\n",
       "      <th>NodeB Name</th>\n",
       "      <th>903477:CSTraffic(erl)-y</th>\n",
       "      <th>903478:PSTraffic(MB)-y</th>\n",
       "    </tr>\n",
       "  </thead>\n",
       "  <tbody>\n",
       "    <tr>\n",
       "      <th>0</th>\n",
       "      <td>4/1/2022 0:00</td>\n",
       "      <td>UTSGG00164(OA)(113)</td>\n",
       "      <td>0.0</td>\n",
       "      <td>0.0</td>\n",
       "    </tr>\n",
       "    <tr>\n",
       "      <th>1</th>\n",
       "      <td>4/1/2022 0:00</td>\n",
       "      <td>UTSGG00164(OA)(113)</td>\n",
       "      <td>0.0</td>\n",
       "      <td>0.0</td>\n",
       "    </tr>\n",
       "    <tr>\n",
       "      <th>2</th>\n",
       "      <td>4/1/2022 0:00</td>\n",
       "      <td>UTSGG00164(OA)(113)</td>\n",
       "      <td>0.0</td>\n",
       "      <td>0.0</td>\n",
       "    </tr>\n",
       "    <tr>\n",
       "      <th>3</th>\n",
       "      <td>4/1/2022 0:00</td>\n",
       "      <td>UTSGG00164(OA)(113)</td>\n",
       "      <td>0.0</td>\n",
       "      <td>0.0</td>\n",
       "    </tr>\n",
       "    <tr>\n",
       "      <th>4</th>\n",
       "      <td>4/1/2022 0:00</td>\n",
       "      <td>UTSGG00164(OA)(113)</td>\n",
       "      <td>0.0</td>\n",
       "      <td>0.0</td>\n",
       "    </tr>\n",
       "    <tr>\n",
       "      <th>...</th>\n",
       "      <td>...</td>\n",
       "      <td>...</td>\n",
       "      <td>...</td>\n",
       "      <td>...</td>\n",
       "    </tr>\n",
       "    <tr>\n",
       "      <th>491</th>\n",
       "      <td>4/16/2022 0:00</td>\n",
       "      <td>UTSGG00865(OA)(479)</td>\n",
       "      <td>0.0</td>\n",
       "      <td>0.0</td>\n",
       "    </tr>\n",
       "    <tr>\n",
       "      <th>492</th>\n",
       "      <td>4/16/2022 0:00</td>\n",
       "      <td>UTSGG00865(OA)(479)</td>\n",
       "      <td>0.0</td>\n",
       "      <td>0.0</td>\n",
       "    </tr>\n",
       "    <tr>\n",
       "      <th>493</th>\n",
       "      <td>4/16/2022 0:00</td>\n",
       "      <td>UTSGG00865(OA)(479)</td>\n",
       "      <td>0.0</td>\n",
       "      <td>0.0</td>\n",
       "    </tr>\n",
       "    <tr>\n",
       "      <th>494</th>\n",
       "      <td>4/16/2022 0:00</td>\n",
       "      <td>UTSGG00865(OA)(479)</td>\n",
       "      <td>0.0</td>\n",
       "      <td>0.0</td>\n",
       "    </tr>\n",
       "    <tr>\n",
       "      <th>495</th>\n",
       "      <td>4/16/2022 0:00</td>\n",
       "      <td>UTSGG00865(OA)(479)</td>\n",
       "      <td>0.0</td>\n",
       "      <td>0.0</td>\n",
       "    </tr>\n",
       "  </tbody>\n",
       "</table>\n",
       "<p>496 rows × 4 columns</p>\n",
       "</div>"
      ],
      "text/plain": [
       "         Start Time           NodeB Name  903477:CSTraffic(erl)-y  \\\n",
       "0     4/1/2022 0:00  UTSGG00164(OA)(113)                      0.0   \n",
       "1     4/1/2022 0:00  UTSGG00164(OA)(113)                      0.0   \n",
       "2     4/1/2022 0:00  UTSGG00164(OA)(113)                      0.0   \n",
       "3     4/1/2022 0:00  UTSGG00164(OA)(113)                      0.0   \n",
       "4     4/1/2022 0:00  UTSGG00164(OA)(113)                      0.0   \n",
       "..              ...                  ...                      ...   \n",
       "491  4/16/2022 0:00  UTSGG00865(OA)(479)                      0.0   \n",
       "492  4/16/2022 0:00  UTSGG00865(OA)(479)                      0.0   \n",
       "493  4/16/2022 0:00  UTSGG00865(OA)(479)                      0.0   \n",
       "494  4/16/2022 0:00  UTSGG00865(OA)(479)                      0.0   \n",
       "495  4/16/2022 0:00  UTSGG00865(OA)(479)                      0.0   \n",
       "\n",
       "     903478:PSTraffic(MB)-y  \n",
       "0                       0.0  \n",
       "1                       0.0  \n",
       "2                       0.0  \n",
       "3                       0.0  \n",
       "4                       0.0  \n",
       "..                      ...  \n",
       "491                     0.0  \n",
       "492                     0.0  \n",
       "493                     0.0  \n",
       "494                     0.0  \n",
       "495                     0.0  \n",
       "\n",
       "[496 rows x 4 columns]"
      ]
     },
     "execution_count": 39,
     "metadata": {},
     "output_type": "execute_result"
    }
   ],
   "source": [
    "dfc"
   ]
  },
  {
   "cell_type": "code",
   "execution_count": null,
   "id": "8e9c1f1a-53f1-461c-a661-7c3ae0aad283",
   "metadata": {},
   "outputs": [],
   "source": []
  },
  {
   "cell_type": "code",
   "execution_count": null,
   "id": "72d699fe-0b99-4bd8-b7ca-4dec69e052da",
   "metadata": {},
   "outputs": [],
   "source": [
    "from tkinter import *"
   ]
  },
  {
   "cell_type": "code",
   "execution_count": null,
   "id": "32a8f6b1-80db-4426-a77a-36955f3ce16e",
   "metadata": {},
   "outputs": [],
   "source": [
    "root = Tk()\n",
    "\n",
    "root.title('File Combiner_by HAL')\n",
    "#root.geometry('500x200')\n",
    "root.resizable\n",
    "root.resizable(0,0)\n",
    "\n",
    "label1 = Label(root, text='Please select your file type.').grid(row=0,column=2,columnspan=3)\n",
    "entry1 = Entry(root\n",
    "\n",
    "\n",
    "btn_exit = Button(root, text='Exit', command=root.destroy)\n",
    "\n",
    "btn_exit.grid(row=4,column=1)\n",
    "\n",
    "root.mainloop()"
   ]
  },
  {
   "cell_type": "code",
   "execution_count": null,
   "id": "539cc906-31da-410d-8130-0c683e8896a4",
   "metadata": {},
   "outputs": [],
   "source": []
  },
  {
   "cell_type": "code",
   "execution_count": null,
   "id": "21b4a9f9-f78c-4189-bad7-17dfc4c63046",
   "metadata": {},
   "outputs": [],
   "source": []
  }
 ],
 "metadata": {
  "kernelspec": {
   "display_name": "Python 3 (ipykernel)",
   "language": "python",
   "name": "python3"
  },
  "language_info": {
   "codemirror_mode": {
    "name": "ipython",
    "version": 3
   },
   "file_extension": ".py",
   "mimetype": "text/x-python",
   "name": "python",
   "nbconvert_exporter": "python",
   "pygments_lexer": "ipython3",
   "version": "3.9.6"
  }
 },
 "nbformat": 4,
 "nbformat_minor": 5
}
