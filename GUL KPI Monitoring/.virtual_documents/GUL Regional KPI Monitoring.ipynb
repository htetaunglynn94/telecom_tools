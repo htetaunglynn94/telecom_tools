


import pandas as pd
import numpy as np
import dash
from dash import html
from dash import dcc
import plotly.express as px
from jupyter_dash import JupyterDash
from dash.dependencies import Output, Input, State
# from ipyfilechooser import FileChooser

# # Select file
# fc.reset()
# fc = FileChooser()
# display(fc)
# file = fc.selected_filename
# Import GUL data
print('LTE data is importing...')
L = pd.read_excel('GUL.xlsx', sheet_name='LTE', na_values=['NIL','\0'], engine='openpyxl')
print('LTE data is imported. UMTS data is importing...')
U = pd.read_excel(f'GUL.xlsx', sheet_name='UMTS', na_values=['NIL','\0'], engine='openpyxl')
print('UMTS data is imported. GSM data is importing...')
G = pd.read_excel('GUL.xlsx', sheet_name='GSM', na_values=['NIL','\0'], engine='openpyxl')
print('All GUL data is imported...')

# GUL data manipulation
G['DateTime'] = pd.to_datetime(G['Date'] +' ' + G['Time'])
U['DateTime'] = pd.to_datetime(U['Date'] +' ' + U['Time'])
L['DateTime'] = pd.to_datetime(L['Date'] +' ' + L['Time'])
G['Date'] = pd.to_datetime(G['Date']).dt.date
U['Date'] = pd.to_datetime(U['Date']).dt.date
L['Date'] = pd.to_datetime(L['Date']).dt.date
G['Region'] = G['GCell Group'].str[2::]
U['Region'] = U['UCell Group'].str[2::]
L['Region'] = L['LTE Cell Group'].str[2::]
G = G[(G['TR373:Cell Availability(%)'] != 'NIL') & (G['TR373:Cell Availability(%)'] != 0)]
G = G.replace(np.nan, 0)
U = U[(U['Cell Availability(%)'] != 'NIL') & (U['Cell Availability(%)'] != 0)]
U = U.replace(np.nan, 0)
L = L[(L['Cell Availability(%)'] != 'NIL') & (L['Cell Availability(%)'] != 0)]
L = L.replace(np.nan, 0)
L = L.replace('NIL', 0)
L = L.replace('/0', 0)
G['Interference Band[4-5]%'] = G['Interference Band[4-5]%'].astype('float')
L= L.astype({'L.UL.Interference.Avg(dBm)':'float', 'Intra-freq HOSR (%)':'float'})
print('GUL data wrangling is completed...')

def gsm_gp(df):

    wnd = df.groupby('Date') ['TR373:Cell Availability(%)', 'CS Traffic (Erl)', 'PS Traffic (MB)', 'Interference Band[4-5]%',
                              'Mute Call Counts', 'CS SSR (%)', 'PS CSSR (%)(%)', 'GSM Utilization(%)', 'VAMOS Traffic(Erl)',
                              'GSM TCH Congestion Rate(%)', 'SDCCH Cong Rate (%)(%)'].mean().reset_index()
    wnh = df.groupby('DateTime') ['TR373:Cell Availability(%)', 'CS Traffic (Erl)', 'PS Traffic (MB)', 'Interference Band[4-5]%',
                                   'Mute Call Counts', 'CS SSR (%)', 'PS CSSR (%)(%)', 'GSM Utilization(%)', 'VAMOS Traffic(Erl)',
                                   'GSM TCH Congestion Rate(%)', 'SDCCH Cong Rate (%)(%)'].mean().reset_index()
    rgnd = df.groupby(['Date','Region']) ['TR373:Cell Availability(%)', 'CS Traffic (Erl)', 'PS Traffic (MB)', 'Interference Band[4-5]%',
                                   'Mute Call Counts', 'CS SSR (%)', 'PS CSSR (%)(%)', 'GSM Utilization(%)', 'VAMOS Traffic(Erl)',
                                   'GSM TCH Congestion Rate(%)', 'SDCCH Cong Rate (%)(%)'].mean().reset_index()
    rgnh = df.groupby(['DateTime','Region']) ['TR373:Cell Availability(%)', 'CS Traffic (Erl)', 'PS Traffic (MB)', 'Interference Band[4-5]%',
                                   'Mute Call Counts', 'CS SSR (%)', 'PS CSSR (%)(%)', 'GSM Utilization(%)', 'VAMOS Traffic(Erl)',
                                   'GSM TCH Congestion Rate(%)', 'SDCCH Cong Rate (%)(%)'].mean().reset_index()
    return wnd, wnh, rgnd, rgnh            


def umts_gp(df):

    wnd = df.groupby('Date') ['Cell Availability(%)', 'CS Traffic (Erl)', 'PS Traffic (MB)(MB)', 'VS.MeanRTWP(dBm)', 'Mute Call Counts',
                              'CS Call Setup Success Rate (%)', 'PS Call Setup Success Rate (%)', 'M-Code Congestion(Times)', 'DCH User Numbers',
                              'CS DCR (%)(%)', 'PS DCR (%)(%)'].mean().reset_index()
    wnh = df.groupby('DateTime') ['Cell Availability(%)', 'CS Traffic (Erl)', 'PS Traffic (MB)(MB)', 'VS.MeanRTWP(dBm)', 'Mute Call Counts',
                                  'CS Call Setup Success Rate (%)', 'PS Call Setup Success Rate (%)', 'M-Code Congestion(Times)', 'DCH User Numbers',
                                  'CS DCR (%)(%)', 'PS DCR (%)(%)'].mean().reset_index()
    rgnd = df.groupby(['Date', 'Region']) ['Cell Availability(%)', 'CS Traffic (Erl)', 'PS Traffic (MB)(MB)', 'VS.MeanRTWP(dBm)', 'Mute Call Counts',
                                  'CS Call Setup Success Rate (%)', 'PS Call Setup Success Rate (%)', 'M-Code Congestion(Times)', 'DCH User Numbers',
                                  'CS DCR (%)(%)', 'PS DCR (%)(%)'].mean().reset_index()
    rgnh = df.groupby(['DateTime', 'Region']) ['Cell Availability(%)', 'CS Traffic (Erl)', 'PS Traffic (MB)(MB)', 'VS.MeanRTWP(dBm)', 'Mute Call Counts',
                                  'CS Call Setup Success Rate (%)', 'PS Call Setup Success Rate (%)', 'M-Code Congestion(Times)', 'DCH User Numbers',
                                  'CS DCR (%)(%)', 'PS DCR (%)(%)'].mean().reset_index()
    return wnd, wnh, rgnd, rgnh     

def lte_gp(df):
    wnd = df.groupby('Date') ['Cell Availability(%)', 'Traffic Volume (GB)', 'E2E Call Setup Success Rate (%)',
                              'L.UL.Interference.Avg(dBm)', 'Average DL User Throughput(Mbps)', 'DL PRB Utilization (%)', 
                              'CSFB CSSR (%)', 'Inter-freq HOSR(%)', 'Intra-freq HOSR (%)', 'SDR (%)', 'RRC Connected Users'].mean().reset_index()
    wnh = df.groupby('DateTime') ['Cell Availability(%)', 'Traffic Volume (GB)', 'E2E Call Setup Success Rate (%)',
                                  'L.UL.Interference.Avg(dBm)', 'Average DL User Throughput(Mbps)', 'DL PRB Utilization (%)', 
                                  'CSFB CSSR (%)', 'Inter-freq HOSR(%)', 'Intra-freq HOSR (%)', 'SDR (%)', 'RRC Connected Users'].mean().reset_index()
    rgnd = df.groupby(['Date', 'Region']) ['Cell Availability(%)', 'Traffic Volume (GB)', 'E2E Call Setup Success Rate (%)',
                                           'L.UL.Interference.Avg(dBm)', 'Average DL User Throughput(Mbps)', 'DL PRB Utilization (%)', 
                                           'CSFB CSSR (%)', 'Inter-freq HOSR(%)', 'Intra-freq HOSR (%)', 'SDR (%)', 'RRC Connected Users'].mean().reset_index()
    rgnh = df.groupby(['DateTime', 'Region']) ['Cell Availability(%)', 'Traffic Volume (GB)', 'E2E Call Setup Success Rate (%)',
                                               'L.UL.Interference.Avg(dBm)', 'Average DL User Throughput(Mbps)', 'DL PRB Utilization (%)', 
                                               'CSFB CSSR (%)', 'Inter-freq HOSR(%)', 'Intra-freq HOSR (%)', 'SDR (%)', 'RRC Connected Users'].mean().reset_index()
    return wnd, wnh, rgnd, rgnh  

app = JupyterDash(__name__)

#app.config.suppress_exceptions = True

# Layout
app.layout = html.Div([html.H1('Lower Myanmar GUL KPI Satistics', style={'textAlign':'center', 'color':'#0D08B9', 'font-size':50}),
                       html.Div([
                           html.Div([
                               html.Div([html.H2('Select Technology', style={'margin-right':'2em'}),
                                          dcc.RadioItems(id='technology', options=[
                                              {'label':'LTE', 'value':'L'},
                                              {'label':'UMTS', 'value':'U'},
                                              {'label':'GSM', 'value':'G'}], value='L'),
                                html.Br(),
                               html.Div([html.H2('Granularity:', style={'margin-right':'2em'}),
                                         dcc.Dropdown(id='granularity', options=[
                                             {'label':'Daily', 'value':'dly'},
                                             {'label':'Hourly', 'value':'hly'}],
                                                      placeholder='Select Granularity',
                                                      style={'width':'80%', 'padding':'3px', 'font-size':'20px', 'text-align-last':'center'}),
                                        ], style={'display':'flex'}),
                               html.Div([html.H2('Report Type:', style={'margin-right':'2em'}),
                                         dcc.Dropdown(id='report-type', options=[
                                             {'label':'Whole Network', 'value':'WN'},
                                             {'label':'Regional', 'value':'RGN'}],
                                                      placeholder='Select Report Type',
                                                      style={'width':'80%', 'padding':'3px', 'font-size':'20px', 'text-align-last':'center'}),
                                        ], style={'display':'flex'})
                           ]),
                           html.Div([
                               html.Div([
                                   html.Div([ ], id='plot-1'),
                                   html.Div([ ], id='plot-2')
                               ], style={'display':'flex'}),
                           ]),
                           html.Div([
                               html.Div([
                                   html.Div([ ], id='plot-3'),
                                   html.Div([ ], id='plot-4')
                               ], style={'display':'flex'}),
                           ]),
                          html.Div([
                               html.Div([
                                   html.Div([ ], id='plot-5'),
                                   html.Div([ ], id='plot-6')
                               ], style={'display':'flex'}),
                           ]),
                           html.Div([
                               html.Div([
                                   html.Div([ ], id='plot-7'),
                                   html.Div([ ], id='plot-8')
                               ], style={'display':'flex'}),
                           ])
                       ])
                      ])
                    ])

@app.callback([Output(component_id='plot-1', component_property='children'), Output(component_id='plot-2', component_property='children'),
               Output(component_id='plot-3', component_property='children'), Output(component_id='plot-4', component_property='children'),
               Output(component_id='plot-5', component_property='children'), Output(component_id='plot-6', component_property='children'),
               Output(component_id='plot-7', component_property='children'), Output(component_id='plot-8', component_property='children')],
              [Input(component_id='technology', component_property='value'), Input(component_id='granularity', component_property='value'),
               Input(component_id='report-type', component_property='value')],
              [State('plot-1', 'children'), State('plot-2', 'children'), State('plot-3', 'children'), State('plot-4', 'children'),
               State('plot-5', 'children'), State('plot-6', 'children'), State('plot-7', 'children'), State('plot-8', 'children')])

def get_graph_data(tech, gran, rptype, p1, p2, p3, p4, p5, p6, p7, p8):
    if (tech == 'L'):
        wnd, wnh, rgnd, rgnh = lte_gp(L)
        if (gran=='dly') and (rptype=='WN'):
            fig1 = px.line(wnd, x='Date', y='Cell Availability(%)', title='LTE: Cell Availability (%) [Whole Network_Daily]', markers=True)
            fig2 = px.line(wnd, x='Date', y='Traffic Volume (GB)', title='LTE: PS Traffic (GB) [Whole Network_Daily]', markers=True)
            fig3 = px.line(wnd, x='Date', y='E2E Call Setup Success Rate (%)', title='LTE: E2E CSSR (%) [Whole Network_Daily]', markers=True)
            fig4 = px.line(wnd, x='Date', y='SDR (%)', title='LTE: SDR (%) [Whole Network_Daily]', markers=True)
            fig5 = px.line(wnd, x='Date', y='L.UL.Interference.Avg(dBm)', title='LTE: Interference (dBm) [Whole Network_Daily]', markers=True)
            fig6 = px.line(wnd, x='Date', y='RRC Connected Users', title='LTE: RRC Connected Users [Whole Network_Daily]', markers=True)
            fig7 = px.line(wnd, x='Date', y='Average DL User Throughput(Mbps)', title='LTE: DL User Thpt (Mbps) [Whole Network_Daily]', markers=True)
            fig8 = px.line(wnd, x='Date', y='Inter-freq HOSR(%)', title='LTE: IntEr-freq HOSR (%) [Whole Network_Daily]', markers=True)

        elif (gran=='hly') and (rptype=='WN'):
            fig1 = px.line(wnh, x='DateTime', y='Cell Availability(%)', title='LTE: Cell Availability (%) [Whole Network_Hourly]', markers=True)
            fig2 = px.line(wnh, x='DateTime', y='Traffic Volume (GB)', title='LTE: PS Traffic (GB) [Whole Network_Hourly]', markers=True)
            fig3 = px.line(wnh, x='DateTime', y='E2E Call Setup Success Rate (%)', title='LTE: E2E CSSR (%) [Whole Network_Hourly]', markers=True)
            fig4 = px.line(wnh, x='DateTime', y='SDR (%)', title='LTE: SDR (%) [Whole Network_Hourly]', markers=True)
            fig5 = px.line(wnh, x='DateTime', y='L.UL.Interference.Avg(dBm)', title='LTE: Interference (dBm) [Whole Network_Hourly]', markers=True)
            fig6 = px.line(wnh, x='DateTime', y='RRC Connected Users', title='LTE: RRC Connected Users [Whole Network_Hourly]', markers=True)
            fig7 = px.line(wnh, x='DateTime', y='Average DL User Throughput(Mbps)', title='LTE: DL User Thpt (Mbps) [Whole Network_Hourly]', markers=True)
            fig8 = px.line(wnh, x='DateTime', y='Inter-freq HOSR(%)', title='LTE: IntEr-freq HOSR (%) [Whole Network_Hourly]', markers=True)

        elif(gran=='dly') and (rptype=='RGN'):
            fig1 = px.line(rgnd, x='Date', color='Region', y='Cell Availability(%)', title='LTE: Cell Availability (%) [Regional_Daily]', markers=True)
            fig2 = px.line(rgnd, x='Date', color='Region', y='Traffic Volume (GB)', title='LTE: PS Traffic (GB) [Regional_Daily]', markers=True)
            fig3 = px.line(rgnd, x='Date', color='Region', y='E2E Call Setup Success Rate (%)', title='LTE: E2E CSSR (%) [Regional_Daily]', markers=True)
            fig4 = px.line(rgnd, x='Date', color='Region', y='SDR (%)', title='LTE: SDR (%) [Regional_Daily]', markers=True)
            fig5 = px.line(rgnd, x='Date', color='Region', y='L.UL.Interference.Avg(dBm)', title='LTE: Interference (dBm) [Regional_Daily]', markers=True)
            fig6 = px.line(rgnd, x='Date', color='Region', y='RRC Connected Users', title='LTE: RRC Connected Users [Regional_Daily]', markers=True)
            fig7 = px.line(rgnd, x='Date', color='Region', y='Average DL User Throughput(Mbps)', title='LTE: DL User Thpt (Mbps) [Regional_Daily]', markers=True)
            fig8 = px.line(rgnd, x='Date', color='Region', y='Inter-freq HOSR(%)', title='LTE: IntEr-freq HOSR (%) [Regional_Daily]', markers=True)
           
        elif(gran=='hly') and (rptype=='RGN'):
            fig1 = px.line(rgnh, x='DateTime', color='Region', y='Cell Availability(%)', title='LTE: Cell Availability (%) [Regional_Hourly]', markers=True)
            fig2 = px.line(rgnh, x='DateTime', color='Region', y='Traffic Volume (GB)', title='LTE: PS Traffic (GB) [Regional_Hourly]', markers=True)
            fig3 = px.line(rgnh, x='DateTime', color='Region', y='E2E Call Setup Success Rate (%)', title='LTE: E2E CSSR (%) [Regional_Hourly]', markers=True)
            fig4 = px.line(rgnh, x='DateTime', color='Region', y='SDR (%)', title='LTE: SDR (%) [Regional_Hourly]', markers=True)
            fig5 = px.line(rgnh, x='DateTime', color='Region', y='L.UL.Interference.Avg(dBm)', title='LTE: Interference (dBm) [Regional_Hourly]', markers=True)
            fig6 = px.line(rgnh, x='DateTime', color='Region', y='RRC Connected Users', title='LTE: RRC Connected Users [Regional_Hourly]', markers=True)
            fig7 = px.line(rgnh, x='DateTime', color='Region', y='Average DL User Throughput(Mbps)', title='LTE: DL User Thpt (Mbps) [Regional_Hourly]', markers=True)
            fig8 = px.line(rgnh, x='DateTime', color='Region', y='Inter-freq HOSR(%)', title='LTE: IntEr-freq HOSR (%) [Regional_Hourly]', markers=True)
            
    elif (tech == 'U'):
        wnd, wnh, rgnd, rgnh = umts_gp(U)
        if (gran=='dly') and (rptype=='WN'):
            fig1 = px.line(wnd, x='Date', y='Cell Availability(%)', title='UMTS: Cell Availability (%) [Whole Network_Daily]', markers=True)
            fig2 = px.line(wnd, x='Date', y='CS Traffic (Erl)', title='UMTS: CS Traffic (Erl) [Whole Network_Daily]', markers=True)
            fig3 = px.line(wnd, x='Date', y='PS Traffic (MB)(MB)', title='UMTS: PS Traffic (MB) [Whole Network_Daily]', markers=True)
            fig4 = px.line(wnd, x='Date', y='VS.MeanRTWP(dBm)', title='UMTS: Interference (dBm) [Whole Network_Daily]', markers=True)
            fig5 = px.line(wnd, x='Date', y='Mute Call Counts', title='UMTS: Mute Call Counts [Whole Network_Daily]', markers=True)
            fig6 = px.line(wnd, x='Date', y='CS Call Setup Success Rate (%)', title='UMTS: CS CSSR (%) [Whole Network_Daily]', markers=True)
            fig7 = px.line(wnd, x='Date', y='PS Call Setup Success Rate (%)', title='UMTS: PS CSSR (%) [Whole Network_Daily]', markers=True)
            fig8 = px.line(wnd, x='Date', y='DCH User Numbers', title='UMTS: DCH User Numbers [Whole Network_Daily]', markers=True)
        elif (gran=='hly') and (rptype=='WN'):
            fig1 = px.line(wnh, x='DateTime', y='Cell Availability(%)', title='UMTS: Cell Availability (%) [Whole Network_Hourly]', markers=True)
            fig2 = px.line(wnh, x='DateTime', y='CS Traffic (Erl)', title='UMTS: CS Traffic (Erl) [Whole Network_Hourly]', markers=True)
            fig3 = px.line(wnh, x='DateTime', y='PS Traffic (MB)(MB)', title='UMTS: PS Traffic (MB) [Whole Network_Hourly]', markers=True)
            fig4 = px.line(wnh, x='DateTime', y='VS.MeanRTWP(dBm)', title='UMTS: Interference (dBm) [Whole Network_Hourly]', markers=True)
            fig5 = px.line(wnh, x='DateTime', y='Mute Call Counts', title='UMTS: Mute Call Counts [Whole Network_Hourly]', markers=True)
            fig6 = px.line(wnh, x='DateTime', y='CS Call Setup Success Rate (%)', title='UMTS: CS CSSR (%) [Whole Network_Hourly]', markers=True)
            fig7 = px.line(wnh, x='DateTime', y='PS Call Setup Success Rate (%)', title='UMTS: PS CSSR (%) [Whole Network_Hourly]', markers=True)
            fig8 = px.line(wnh, x='DateTime', y='DCH User Numbers', title='UMTS: DCH User Numbers [Whole Network_Hourly]', markers=True)
        elif (gran=='dly') and (rptype=='RGN'):
            fig1 = px.line(rgnd, x='Date', color='Region', y='Cell Availability(%)', title='UMTS: Cell Availability (%) [Regional_Daily]', markers=True)
            fig2 = px.line(rgnd, x='Date', color='Region', y='CS Traffic (Erl)', title='UMTS: CS Traffic (Erl) [Regional_Daily]', markers=True)
            fig3 = px.line(rgnd, x='Date', color='Region', y='PS Traffic (MB)(MB)', title='UMTS: PS Traffic (MB) [Regional_Daily]', markers=True)
            fig4 = px.line(rgnd, x='Date', color='Region', y='VS.MeanRTWP(dBm)', title='UMTS: Interference (dBm) [Regional_Daily]', markers=True)
            fig5 = px.line(rgnd, x='Date', color='Region', y='Mute Call Counts', title='UMTS: Mute Call Counts [Regional_Daily]', markers=True)
            fig6 = px.line(rgnd, x='Date', color='Region', y='CS Call Setup Success Rate (%)', title='UMTS: CS CSSR (%) [Regional_Daily]', markers=True)
            fig7 = px.line(rgnd, x='Date', color='Region', y='PS Call Setup Success Rate (%)', title='UMTS: PS CSSR (%) [Regional_Daily]', markers=True)
            fig8 = px.line(rgnd, x='Date', color='Region', y='DCH User Numbers', title='UMTS: DCH User Numbers [Regional_Daily]', markers=True)
        elif (gran=='hly') and (rptype=='RGN'):
            fig1 = px.line(rgnh, x='DateTime', color='Region', y='Cell Availability(%)', title='UMTS: Cell Availability (%) [Regional_Hourly]', markers=True)
            fig2 = px.line(rgnh, x='DateTime', color='Region', y='CS Traffic (Erl)', title='UMTS: CS Traffic (Erl) [Regional_Hourly]', markers=True)
            fig3 = px.line(rgnh, x='DateTime', color='Region', y='PS Traffic (MB)(MB)', title='UMTS: PS Traffic (MB) [Regional_Hourly]', markers=True)
            fig4 = px.line(rgnh, x='DateTime', color='Region', y='VS.MeanRTWP(dBm)', title='UMTS: Interference (dBm) [Regional_Hourly]', markers=True)
            fig5 = px.line(rgnh, x='DateTime', color='Region', y='Mute Call Counts', title='UMTS: Mute Call Counts [Regional_Hourly]', markers=True)
            fig6 = px.line(rgnh, x='DateTime', color='Region', y='CS Call Setup Success Rate (%)', title='UMTS: CS CSSR (%) [Regional_Hourly]', markers=True)
            fig7 = px.line(rgnh, x='DateTime', color='Region', y='PS Call Setup Success Rate (%)', title='UMTS: PS CSSR (%) [Regional_Hourly]', markers=True)
            fig8 = px.line(rgnh, x='DateTime', color='Region', y='DCH User Numbers', title='UMTS: DCH User Numbers [Regional_Hourly]', markers=True)               
    
    else:
        wnd, wnh, rgnd, rgnh = gsm_gp(G)
        if (gran=='dly') and (rptype=='WN'):
            fig1 = px.line(wnd, x='Date', y='TR373:Cell Availability(%)', title='GSM: Cell Availability (%) [Whole Network_Daily]', markers=True)
            fig2 = px.line(wnd, x='Date', y='CS Traffic (Erl)', title='GSM: CS Traffic (Erl) [Whole Network_Daily]', markers=True)
            fig3 = px.line(wnd, x='Date', y='PS Traffic (MB)', title='GSM: PS Traffic (MB) [Whole Network_Daily]', markers=True)
            fig4 = px.line(wnd, x='Date', y='Interference Band[4-5]%', title='GSM: Interference (%) [Whole Network_Daily]', markers=True)
            fig5 = px.line(wnd, x='Date', y='Mute Call Counts', title='GSM: Mute Call Counts [Whole Network_Daily]', markers=True)
            fig6 = px.line(wnd, x='Date', y='CS CSSR (%)', title='GSM: CS CSSR (%) [Whole Network_Daily]', markers=True)
            fig7 = px.line(wnd, x='Date', y='GSM TCH Congestion Rate(%)', title='GSM: TCH Congestion Rate (%) [Whole Network_Daily]', markers=True)
            fig8 = px.line(wnd, x='Date', y='SDCCH Cong Rate (%)(%)', title='GSM: SDCCH Congestion Rate (%) [Whole Network_Daily]', markers=True)
        elif (gran=='hly') and (rptype=='WN'):
            fig1 = px.line(wnh, x='DateTime', y='TR373:Cell Availability(%)', title='GSM: Cell Availability (%) [Whole Network_Hourly]', markers=True)
            fig2 = px.line(wnh, x='DateTime', y='CS Traffic (Erl)', title='GSM: CS Traffic (Erl) [Whole Network_Hourly]', markers=True)
            fig3 = px.line(wnh, x='DateTime', y='PS Traffic (MB)', title='GSM: PS Traffic (MB) [Whole Network_Hourly]', markers=True)
            fig4 = px.line(wnh, x='DateTime', y='Interference Band[4-5]%', title='GSM: Interference (%) [Whole Network_Hourly]', markers=True)
            fig5 = px.line(wnh, x='DateTime', y='Mute Call Counts', title='GSM: Mute Call Counts [Whole Network_Hourly]', markers=True)
            fig6 = px.line(wnh, x='DateTime', y='CS SSR (%)', title='GSM: CS CSSR (%) [Whole Network_Hourly]', markers=True)
            fig7 = px.line(wnh, x='DateTime', y='GSM TCH Congestion Rate(%)', title='GSM: TCH Congestion Rate (%) [Whole Network_Hourly]', markers=True)
            fig8 = px.line(wnh, x='DateTime', y='SDCCH Cong Rate (%)(%)', title='GSM: SDCCH Congestion Rate (%) [Whole Network_Hourly]', markers=True)
        elif (gran=='dly') and (rptype=='RGN'):
            fig1 = px.line(rgnd, x='Date', color='Region', y='TR373:Cell Availability(%)', title='GSM: Cell Availability (%) [Regional_Daily]', markers=True)
            fig2 = px.line(rgnd, x='Date', color='Region', y='CS Traffic (Erl)', title='GSM: CS Traffic (Erl) [Regional_Daily]', markers=True)
            fig3 = px.line(rgnd, x='Date', color='Region', y='PS Traffic (MB)', title='GSM: PS Traffic (MB) [Regional_Daily]', markers=True)
            fig4 = px.line(rgnd, x='Date', color='Region', y='Interference Band[4-5]%', title='GSM: Interference (%) [Regional_Daily]', markers=True)
            fig5 = px.line(rgnd, x='Date', color='Region', y='Mute Call Counts', title='GSM: Mute Call Counts [Regional_Daily]', markers=True)
            fig6 = px.line(rgnd, x='Date', color='Region', y='CS SSR (%)', title='GSM: CS CSSR (%) [Regional_Daily]', markers=True)
            fig7 = px.line(rgnd, x='Date', color='Region', y='GSM TCH Congestion Rate(%)', title='GSM: TCH Congestion Rate (%) [Regional_Daily]', markers=True)
            fig8 = px.line(rgnd, x='Date', color='Region', y='SDCCH Cong Rate (%)(%)', title='GSM: SDCCH Congestion Rate (%) [Regional_Daily]', markers=True)
        elif (gran=='hly') and (rptype=='RGN'):
            fig1 = px.line(rgnh, x='DateTime', color='Region', y='TR373:Cell Availability(%)', title='GSM: Cell Availability (%) [Regional_Hourly]', markers=True)
            fig2 = px.line(rgnh, x='DateTime', color='Region', y='CS Traffic (Erl)', title='GSM: CS Traffic (Erl) [Regional_Hourly]', markers=True)
            fig3 = px.line(rgnh, x='DateTime', color='Region', y='PS Traffic (MB)', title='GSM: PS Traffic (MB) [Regional_Hourly]', markers=True)
            fig4 = px.line(rgnh, x='DateTime', color='Region', y='Interference Band[4-5]%', title='GSM: Interference (%) [Regional_Hourly]', markers=True)
            fig5 = px.line(rgnh, x='DateTime', color='Region', y='Mute Call Counts', title='GSM: Mute Call Counts [Regional_Hourly]', markers=True)
            fig6 = px.line(rgnh, x='DateTime', color='Region', y='CS SSR (%)', title='GSM: CS CSSR (%) [Regional_Hourly]', markers=True)
            fig7 = px.line(rgnh, x='DateTime', color='Region', y='GSM TCH Congestion Rate(%)', title='GSM: TCH Congestion Rate (%) [Regional_Hourly]', markers=True)
            fig8 = px.line(rgnh, x='DateTime', color='Region', y='SDCCH Cong Rate (%)(%)', title='GSM: SDCCH Congestion Rate (%) [Regional_Hourly]', markers=True)   

    return [dcc.Graph(figure=fig1), dcc.Graph(figure=fig2), dcc.Graph(figure=fig3), dcc.Graph(figure=fig4), 
            dcc.Graph(figure=fig5), dcc.Graph(figure=fig6), dcc.Graph(figure=fig7), dcc.Graph(figure=fig8)]
                   
if __name__ == "__main__":
    app.run_server(host='localhost',debug=False, dev_tools_ui=False, port=8088, dev_tools_props_check=False)  





import pandas as pd
import numpy as np
import dash
from dash import html
from dash import dcc
import plotly.express as px
from jupyter_dash import JupyterDash
from dash.dependencies import Output, Input, State





L = pd.read_excel('GUL.xlsx', sheet_name='LTE')
U = pd.read_excel('GUL.xlsx', sheet_name='UMTS')
G = pd.read_excel('GUL.xlsx', sheet_name='GSM')





G['DateTime'] = pd.to_datetime(G['Date'] +' ' + G['Time'])
U['DateTime'] = pd.to_datetime(U['Date'] +' ' + U['Time'])
L['DateTime'] = pd.to_datetime(L['Date'] +' ' + L['Time'])


G['Date'] = pd.to_datetime(G['Date']).dt.date
U['Date'] = pd.to_datetime(U['Date']).dt.date
L['Date'] = pd.to_datetime(L['Date']).dt.date


G['Region'] = G['GCell Group'].str[2::]
U['Region'] = U['UCell Group'].str[2::]
L['Region'] = L['LTE Cell Group'].str[2::]


G = G[(G['TR373:Cell Availability(%)'] != 'NIL') & (G['TR373:Cell Availability(%)'] != 0)]
G = G.replace(np.nan, 0)

U = U[(U['Cell Availability(%)'] != 'NIL') & (U['Cell Availability(%)'] != 0)]
U = U.replace(np.nan, 0)

L = L[(L['Cell Availability(%)'] != 'NIL') & (L['Cell Availability(%)'] != 0)]
L = L.replace(np.nan, 0)
L = L.replace('NIL', 0)
L = L.replace('/0', 0)


G['Interference Band[4-5]%'] = G['Interference Band[4-5]%'].astype('float')
L= L.astype({'L.UL.Interference.Avg(dBm)':'float', 'Intra-freq HOSR (%)':'float'})





L.dtypes





G.columns


G.dtypes


df = G.copy()
wnd = df.groupby('Date') ['TR373:Cell Availability(%)', 'CS Traffic (Erl)', 'PS Traffic (MB)', 'Interference Band[4-5]%',
                              'Mute Call Counts', 'CS SSR (%)', 'PS CSSR (%)(%)', 'GSM Utilization(%)', 'VAMOS Traffic(Erl)',
                              'GSM TCH Congestion Rate(%)', 'SDCCH Cong Rate (%)(%)'].mean().reset_index()
wnh = df.groupby('DateTime') ['TR373:Cell Availability(%)', 'CS Traffic (Erl)', 'PS Traffic (MB)', 'Interference Band[4-5]%',
                                   'Mute Call Counts', 'CS SSR (%)', 'PS CSSR (%)(%)', 'GSM Utilization(%)', 'VAMOS Traffic(Erl)',
                                   'GSM TCH Congestion Rate(%)', 'SDCCH Cong Rate (%)(%)'].mean().reset_index()
rgnd = df.groupby(['Date','Region']) ['TR373:Cell Availability(%)', 'CS Traffic (Erl)', 'PS Traffic (MB)', 'Interference Band[4-5]%',
                                   'Mute Call Counts', 'CS SSR (%)', 'PS CSSR (%)(%)', 'GSM Utilization(%)', 'VAMOS Traffic(Erl)',
                                   'GSM TCH Congestion Rate(%)', 'SDCCH Cong Rate (%)(%)'].mean().reset_index()
rgnh = df.groupby(['DateTime','Region']) ['TR373:Cell Availability(%)', 'CS Traffic (Erl)', 'PS Traffic (MB)', 'Interference Band[4-5]%',
                                   'Mute Call Counts', 'CS SSR (%)', 'PS CSSR (%)(%)', 'GSM Utilization(%)', 'VAMOS Traffic(Erl)',
                                   'GSM TCH Congestion Rate(%)', 'SDCCH Cong Rate (%)(%)'].mean().reset_index()


wnd


wnh


rgnd


rgnh


def gsm_gp(df):

    wnd = df.groupby('Date') ['TR373:Cell Availability(%)', 'CS Traffic (Erl)', 'PS Traffic (MB)', 'Interference Band[4-5]%',
                              'Mute Call Counts', 'CS SSR (%)', 'PS CSSR (%)(%)', 'GSM Utilization(%)', 'VAMOS Traffic(Erl)',
                              'GSM TCH Congestion Rate(%)', 'SDCCH Cong Rate (%)(%)'].mean().reset_index()
    wnh = df.groupby('DateTime') ['TR373:Cell Availability(%)', 'CS Traffic (Erl)', 'PS Traffic (MB)', 'Interference Band[4-5]%',
                                   'Mute Call Counts', 'CS SSR (%)', 'PS CSSR (%)(%)', 'GSM Utilization(%)', 'VAMOS Traffic(Erl)',
                                   'GSM TCH Congestion Rate(%)', 'SDCCH Cong Rate (%)(%)'].mean().reset_index()
    rgnd = df.groupby(['Date','Region']) ['TR373:Cell Availability(%)', 'CS Traffic (Erl)', 'PS Traffic (MB)', 'Interference Band[4-5]%',
                                   'Mute Call Counts', 'CS SSR (%)', 'PS CSSR (%)(%)', 'GSM Utilization(%)', 'VAMOS Traffic(Erl)',
                                   'GSM TCH Congestion Rate(%)', 'SDCCH Cong Rate (%)(%)'].mean().reset_index()
    rgnh = df.groupby(['DateTime','Region']) ['TR373:Cell Availability(%)', 'CS Traffic (Erl)', 'PS Traffic (MB)', 'Interference Band[4-5]%',
                                   'Mute Call Counts', 'CS SSR (%)', 'PS CSSR (%)(%)', 'GSM Utilization(%)', 'VAMOS Traffic(Erl)',
                                   'GSM TCH Congestion Rate(%)', 'SDCCH Cong Rate (%)(%)'].mean().reset_index()
    return wnd, wnh, rgnd, rgnh                    





df = U.copy()


df.columns


wnd = df.groupby('Date') ['Cell Availability(%)', 'CS Traffic (Erl)', 'PS Traffic (MB)(MB)', 'VS.MeanRTWP(dBm)', 'Mute Call Counts',
                              'CS Call Setup Success Rate (%)', 'PS Call Setup Success Rate (%)', 'M-Code Congestion(Times)', 'RAB DLPower Congestion',
                              'CS DCR (%)(%)', 'PS DCR (%)(%)'].mean().reset_index()
wnh = df.groupby('DateTime') ['Cell Availability(%)', 'CS Traffic (Erl)', 'PS Traffic (MB)(MB)', 'VS.MeanRTWP(dBm)', 'Mute Call Counts',
                                  'CS Call Setup Success Rate (%)', 'PS Call Setup Success Rate (%)', 'M-Code Congestion(Times)', 'RAB DLPower Congestion',
                                  'CS DCR (%)(%)', 'PS DCR (%)(%)'].mean().reset_index()
rgnd = df.groupby(['Date', 'Region']) ['Cell Availability(%)', 'CS Traffic (Erl)', 'PS Traffic (MB)(MB)', 'VS.MeanRTWP(dBm)', 'Mute Call Counts',
                                  'CS Call Setup Success Rate (%)', 'PS Call Setup Success Rate (%)', 'M-Code Congestion(Times)', 'RAB DLPower Congestion',
                                  'CS DCR (%)(%)', 'PS DCR (%)(%)'].mean().reset_index()
rgnh = df.groupby(['DateTime', 'Region']) ['Cell Availability(%)', 'CS Traffic (Erl)', 'PS Traffic (MB)(MB)', 'VS.MeanRTWP(dBm)', 'Mute Call Counts',
                                  'CS Call Setup Success Rate (%)', 'PS Call Setup Success Rate (%)', 'M-Code Congestion(Times)', 'RAB DLPower Congestion',
                                  'CS DCR (%)(%)', 'PS DCR (%)(%)'].mean().reset_index()


wnd


wnh


rgnd


rgnh


def umts_gp(df):

    wnd = df.groupby('Date') ['Cell Availability(%)', 'CS Traffic (Erl)', 'PS Traffic (MB)(MB)', 'VS.MeanRTWP(dBm)', 'Mute Call Counts',
                              'CS Call Setup Success Rate (%)', 'PS Call Setup Success Rate (%)', 'M-Code Congestion(Times)', 'RAB DLPower Congestion',
                              'CS DCR (%)(%)', 'PS DCR (%)(%)'].mean().reset_index()
    wnh = df.groupby('DateTime') ['Cell Availability(%)', 'CS Traffic (Erl)', 'PS Traffic (MB)(MB)', 'VS.MeanRTWP(dBm)', 'Mute Call Counts',
                                  'CS Call Setup Success Rate (%)', 'PS Call Setup Success Rate (%)', 'M-Code Congestion(Times)', 'RAB DLPower Congestion',
                                  'CS DCR (%)(%)', 'PS DCR (%)(%)'].mean().reset_index()
    rgnd = df.groupby(['Date', 'Region']) ['Cell Availability(%)', 'CS Traffic (Erl)', 'PS Traffic (MB)(MB)', 'VS.MeanRTWP(dBm)', 'Mute Call Counts',
                                  'CS Call Setup Success Rate (%)', 'PS Call Setup Success Rate (%)', 'M-Code Congestion(Times)', 'RAB DLPower Congestion',
                                  'CS DCR (%)(%)', 'PS DCR (%)(%)'].mean().reset_index()
    rgnh = df.groupby(['DateTime', 'Region']) ['Cell Availability(%)', 'CS Traffic (Erl)', 'PS Traffic (MB)(MB)', 'VS.MeanRTWP(dBm)', 'Mute Call Counts',
                                  'CS Call Setup Success Rate (%)', 'PS Call Setup Success Rate (%)', 'M-Code Congestion(Times)', 'RAB DLPower Congestion',
                                  'CS DCR (%)(%)', 'PS DCR (%)(%)'].mean().reset_index()
    return wnd, wnh, rgnd, rgnh  





L.columns


L.dtypes


#def lte_gp(df):
df = L.copy()
wnd = df.groupby('Date') ['Cell Availability(%)', 'Traffic Volume (GB)', 'E2E Call Setup Success Rate (%)',
                              'L.UL.Interference.Avg(dBm)', 'Average DL User Throughput(Mbps)', 'DL PRB Utilization (%)', 
                              'CSFB CSSR (%)', 'Inter-freq HOSR(%)', 'Intra-freq HOSR (%)', 'SDR (%)', 'RRC Connected Users'].mean().reset_index()
wnh = df.groupby('DateTime') ['Cell Availability(%)', 'Traffic Volume (GB)', 'E2E Call Setup Success Rate (%)',
                                  'L.UL.Interference.Avg(dBm)', 'Average DL User Throughput(Mbps)', 'DL PRB Utilization (%)', 
                                  'CSFB CSSR (%)', 'Inter-freq HOSR(%)', 'Intra-freq HOSR (%)', 'SDR (%)', 'RRC Connected Users'].mean().reset_index()
rgnd = df.groupby(['Date', 'Region']) ['Cell Availability(%)', 'Traffic Volume (GB)', 'E2E Call Setup Success Rate (%)',
                                           'L.UL.Interference.Avg(dBm)', 'Average DL User Throughput(Mbps)', 'DL PRB Utilization (%)', 
                                           'CSFB CSSR (%)', 'Inter-freq HOSR(%)', 'Intra-freq HOSR (%)', 'SDR (%)', 'RRC Connected Users'].mean().reset_index()
rgnh = df.groupby(['DateTime', 'Region']) ['Cell Availability(%)', 'Traffic Volume (GB)', 'E2E Call Setup Success Rate (%)',
                                               'L.UL.Interference.Avg(dBm)', 'Average DL User Throughput(Mbps)', 'DL PRB Utilization (%)', 
                                               'CSFB CSSR (%)', 'Inter-freq HOSR(%)', 'Intra-freq HOSR (%)', 'SDR (%)', 'RRC Connected Users'].mean().reset_index()


wnd


wnh


rgnd


rgnh


def lte_gp(df):
    wnd = df.groupby('Date') ['Cell Availability(%)', 'Traffic Volume (GB)', 'E2E Call Setup Success Rate (%)',
                              'L.UL.Interference.Avg(dBm)', 'Average DL User Throughput(Mbps)', 'DL PRB Utilization (%)', 
                              'CSFB CSSR (%)', 'Inter-freq HOSR(%)', 'Intra-freq HOSR (%)', 'SDR (%)', 'RRC Connected Users'].mean().reset_index()
    wnh = df.groupby('DateTime') ['Cell Availability(%)', 'Traffic Volume (GB)', 'E2E Call Setup Success Rate (%)',
                                  'L.UL.Interference.Avg(dBm)', 'Average DL User Throughput(Mbps)', 'DL PRB Utilization (%)', 
                                  'CSFB CSSR (%)', 'Inter-freq HOSR(%)', 'Intra-freq HOSR (%)', 'SDR (%)', 'RRC Connected Users'].mean().reset_index()
    rgnd = df.groupby(['Date', 'Region']) ['Cell Availability(%)', 'Traffic Volume (GB)', 'E2E Call Setup Success Rate (%)',
                                           'L.UL.Interference.Avg(dBm)', 'Average DL User Throughput(Mbps)', 'DL PRB Utilization (%)', 
                                           'CSFB CSSR (%)', 'Inter-freq HOSR(%)', 'Intra-freq HOSR (%)', 'SDR (%)', 'RRC Connected Users'].mean().reset_index()
    rgnh = df.groupby(['DateTime', 'Region']) ['Cell Availability(%)', 'Traffic Volume (GB)', 'E2E Call Setup Success Rate (%)',
                                               'L.UL.Interference.Avg(dBm)', 'Average DL User Throughput(Mbps)', 'DL PRB Utilization (%)', 
                                               'CSFB CSSR (%)', 'Inter-freq HOSR(%)', 'Intra-freq HOSR (%)', 'SDR (%)', 'RRC Connected Users'].mean().reset_index()
    return wnd, wnh, rgnd, rgnh  





app = JupyterDash(__name__)

#app.config.suppress_exceptions = True

# Layout
app.layout = html.Div([html.H1('Lower Myanmar KPI Satistics', style={'textAlign':'center', 'color':'#0D08B9', 'font-size':50}),
                       html.Div([
                           html.Div([
                               html.Div([html.H2('Select Technology', style={'margin-right':'2em'}),
                                          dcc.Dropdown(id='technology', options=[
                                              {'label':'LTE', 'value':'L'},
                                              {'label':'UMTS', 'value':'U'},
                                              {'label':'GSM', 'value':'G'}],
                                                    placeholder='Select Technology',
                                                    style={'width':'80%', 'padding':'3px', 'font-size':'20px', 'text-align-last':'center'}),
                                        ], style={'display':'flex'}),
                               html.Div([html.H2('Granularity:', style={'margin-right':'2em'}),
                                         dcc.Dropdown(id='granularity', options=[
                                             {'label':'Daily', 'value':'dly'},
                                             {'label':'Hourly', 'value':'hly'}],
                                                      placeholder='Select Granularity',
                                                      style={'width':'80%', 'padding':'3px', 'font-size':'20px', 'text-align-last':'center'}),
                                        ], style={'display':'flex'}),
                               html.Div([html.H2('Report Type:', style={'margin-right':'2em'}),
                                         dcc.Dropdown(id='report-type', options=[
                                             {'label':'Whole Network', 'value':'WN'},
                                             {'label':'Regional', 'value':'RGN'}],
                                                      placeholder='Select Report Type',
                                                      style={'width':'80%', 'padding':'3px', 'font-size':'20px', 'text-align-last':'center'}),
                                        ], style={'display':'flex'})
                           ]),
                           html.Div([
                               html.Div([
                                   html.Div([ ], id='plot-1')
                               ]),
                           html.Div([
                               html.Div([
                                   html.Div([ ], id='plot-2'),
                                   html.Div([ ], id='plot-3')
                               ], style={'display':'flex'}),
                           ]),
                          html.Div([
                               html.Div([
                                   html.Div([ ], id='plot-4'),
                                   html.Div([ ], id='plot-5')
                               ], style={'display':'flex'}),
                           ]),
                           html.Div([
                               html.Div([
                                   html.Div([ ], id='plot-6'),
                                   html.Div([ ], id='plot-7')
                               ], style={'display':'flex'}),
                           ]),
                           html.Div([
                               html.Div([
                                   html.Div([ ], id='plot-8'),
                                   html.Div([ ], id='plot-9')
                               ], style={'display':'flex'}),
                           ]),
                           html.Div([
                               html.Div([
                                   html.Div([ ], id='plot-10'),
                                   html.Div([ ], id='plot-11')
                               ], style={'display':'flex'}),
                           ])     
                       ])
                      ])
                    ])





tech = input('G/U/L?:')
gran = input('hly/dly?:')
rptype = input('WN/RGN?:')

if (tech == 'L'):
    wnd, wnh, rgnd, rgnh = lte_gp(L)
    if (gran=='dly') and (rptype=='WN'):
            fig1 = px.line(wnd, x='Date', y='Cell Availability(%)', title='LTE: Cell Availability (%) [Whole Network_Daily]', markers=True)
            fig2 = px.line(wnd, x='Date', y='Traffic Volume (GB)', title='LTE: PS Traffic (GB) [Whole Network_Daily]', markers=True)
            fig3 = px.line(wnd, x='Date', y='E2E Call Setup Success Rate (%)', title='LTE: E2E CSSR (%) [Whole Network_Daily]', markers=True)
            fig4 = px.line(wnd, x='Date', y='SDR (%)', title='LTE: SDR (%) [Whole Network_Daily]', markers=True)
            fig5 = px.line(wnd, x='Date', y='L.UL.Interference.Avg(dBm)', title='LTE: Interference (dBm) [Whole Network_Daily]', markers=True)
            fig6 = px.line(wnd, x='Date', y='RRC Connected Users', title='LTE: RRC Connected Users [Whole Network_Daily]', markers=True)
            fig7 = px.line(wnd, x='Date', y='Average DL User Throughput(Mbps)', title='LTE: DL User Thpt (Mbps) [Whole Network_Daily]', markers=True)
            fig8 = px.line(wnd, x='Date', y='DL PRB Utilization (%)', title='LTE: DL PRB Utilization (%) [Whole Network_Daily]', markers=True)
            fig9 = px.line(wnd, x='Date', y='CSFB CSSR (%)', title='LTE: CSFB CSSR [Whole Network_Daily]', markers=True)
            fig10 = px.line(wnd, x='Date', y='Inter-freq HOSR(%)', title='LTE: IntEr-freq HOSR (%) [Whole Network_Daily]', markers=True)
            fig11 = px.line(wnd, x='Date', y='Intra-freq HOSR (%)', title='LTE: IntRa-freq HOSR (%) [Whole Network_Daily]', markers=True)
    elif (gran=='hly') and (rptype=='WN'):
            fig1 = px.line(wnh, x='DateTime', y='Cell Availability(%)', title='LTE: Cell Availability (%) [Whole Network_Hourly]', markers=True)
            fig2 = px.line(wnh, x='DateTime', y='Traffic Volume (GB)', title='LTE: PS Traffic (GB) [Whole Network_Hourly]', markers=True)
            fig3 = px.line(wnh, x='DateTime', y='E2E Call Setup Success Rate (%)', title='LTE: E2E CSSR (%) [Whole Network_Hourly]', markers=True)
            fig4 = px.line(wnh, x='DateTime', y='SDR (%)', title='LTE: SDR (%) [Whole Network_Hourly]', markers=True)
            fig5 = px.line(wnh, x='DateTime', y='L.UL.Interference.Avg(dBm)', title='LTE: Interference (dBm) [Whole Network_Hourly]', markers=True)
            fig6 = px.line(wnh, x='DateTime', y='RRC Connected Users', title='LTE: RRC Connected Users [Whole Network_Hourly]', markers=True)
            fig7 = px.line(wnh, x='DateTime', y='Average DL User Throughput(Mbps)', title='LTE: DL User Thpt (Mbps) [Whole Network_Hourly]', markers=True)
            fig8 = px.line(wnh, x='DateTime', y='DL PRB Utilization (%)', title='LTE: DL PRB Utilization (%) [Whole Network_Hourly]', markers=True)
            fig9 = px.line(wnh, x='DateTime', y='CSFB CSSR (%)', title='LTE: CSFB CSSR [Whole Network_Hourly]', markers=True)
            fig10 = px.line(wnh, x='DateTime', y='Inter-freq HOSR(%)', title='LTE: IntEr-freq HOSR (%) [Whole Network_Hourly]', markers=True)
            fig11 = px.line(wnh, x='DateTime', y='Intra-freq HOSR (%)', title='LTE: IntRa-freq HOSR (%) [Whole Network_Hourly]', markers=True)
    elif(gran=='dly') and (rptype=='RGN'):
            fig1 = px.line(rgnd, x='Date', color='Region', y='Cell Availability(%)', title='LTE: Cell Availability (%) [Regional_Daily]', markers=True)
            fig2 = px.line(rgnd, x='Date', color='Region', y='Traffic Volume (GB)', title='LTE: PS Traffic (GB) [Regional_Daily]', markers=True)
            fig3 = px.line(rgnd, x='Date', color='Region', y='E2E Call Setup Success Rate (%)', title='LTE: E2E CSSR (%) [Regional_Daily]', markers=True)
            fig4 = px.line(rgnd, x='Date', color='Region', y='SDR (%)', title='LTE: SDR (%) [Regional_Daily]', markers=True)
            fig5 = px.line(rgnd, x='Date', color='Region', y='L.UL.Interference.Avg(dBm)', title='LTE: Interference (dBm) [Regional_Daily]', markers=True)
            fig6 = px.line(rgnd, x='Date', color='Region', y='RRC Connected Users', title='LTE: RRC Connected Users [Regional_Daily]', markers=True)
            fig7 = px.line(rgnd, x='Date', color='Region', y='Average DL User Throughput(Mbps)', title='LTE: DL User Thpt (Mbps) [Regional_Daily]', markers=True)
            fig8 = px.line(rgnd, x='Date', color='Region', y='DL PRB Utilization (%)', title='LTE: DL PRB Utilization (%) [Regional_Daily]', markers=True)
            fig9 = px.line(rgnd, x='Date', color='Region', y='CSFB CSSR (%)', title='LTE: CSFB CSSR [Regional_Daily]', markers=True)
            fig10 = px.line(rgnd, x='Date', color='Region', y='Inter-freq HOSR(%)', title='LTE: IntEr-freq HOSR (%) [Regional_Daily]', markers=True)
            fig11 = px.line(rgnd, x='Date', color='Region', y='Intra-freq HOSR (%)', title='LTE: IntRa-freq HOSR (%) [Regional_Daily]', markers=True)
    elif(gran=='hly') and (rptype=='RGN'):
            fig1 = px.line(rgnh, x='DateTime', color='Region', y='Cell Availability(%)', title='LTE: Cell Availability (%) [Regional_Hourly]', markers=True)
            fig2 = px.line(rgnh, x='DateTime', color='Region', y='Traffic Volume (GB)', title='LTE: PS Traffic (GB) [Regional_Hourly]', markers=True)
            fig3 = px.line(rgnh, x='DateTime', color='Region', y='E2E Call Setup Success Rate (%)', title='LTE: E2E CSSR (%) [Regional_Hourly]', markers=True)
            fig4 = px.line(rgnh, x='DateTime', color='Region', y='SDR (%)', title='LTE: SDR (%) [Regional_Hourly]', markers=True)
            fig5 = px.line(rgnh, x='DateTime', color='Region', y='L.UL.Interference.Avg(dBm)', title='LTE: Interference (dBm) [Regional_Hourly]', markers=True)
            fig6 = px.line(rgnh, x='DateTime', color='Region', y='RRC Connected Users', title='LTE: RRC Connected Users [Regional_Hourly]', markers=True)
            fig7 = px.line(rgnh, x='DateTime', color='Region', y='Average DL User Throughput(Mbps)', title='LTE: DL User Thpt (Mbps) [Regional_Hourly]', markers=True)
            fig8 = px.line(rgnh, x='DateTime', color='Region', y='DL PRB Utilization (%)', title='LTE: DL PRB Utilization (%) [Regional_Hourly]', markers=True)
            fig9 = px.line(rgnh, x='DateTime', color='Region', y='CSFB CSSR (%)', title='LTE: CSFB CSSR [Regional_Hourly]', markers=True)
            fig10 = px.line(rgnh, x='DateTime', color='Region', y='Inter-freq HOSR(%)', title='LTE: IntEr-freq HOSR (%) [Regional_Hourly]', markers=True)
            fig11 = px.line(rgnh, x='DateTime', color='Region', y='Intra-freq HOSR (%)', title='LTE: IntRa-freq HOSR (%) [Regional_Hourly]', markers=True)
            
elif (tech == 'U'):
    wnd, wnh, rgnd, rgnh = umts_gp(U)
    if (gran=='dly') and (rptype=='WN'):
            fig1 = px.line(wnd, x='Date', y='Cell Availability(%)', title='UMTS: Cell Availability (%) [Whole Network_Daily]', markers=True)
            fig2 = px.line(wnd, x='Date', y='CS Traffic (Erl)', title='UMTS: CS Traffic (Erl) [Whole Network_Daily]', markers=True)
            fig3 = px.line(wnd, x='Date', y='PS Traffic (MB)(MB)', title='UMTS: PS Traffic (MB) [Whole Network_Daily]', markers=True)
            fig4 = px.line(wnd, x='Date', y='VS.MeanRTWP(dBm)', title='UMTS: Interference (dBm) [Whole Network_Daily]', markers=True)
            fig5 = px.line(wnd, x='Date', y='Mute Call Counts', title='UMTS: Mute Call Counts [Whole Network_Daily]', markers=True)
            fig6 = px.line(wnd, x='Date', y='M-Code Congestion(Times)', title='UMTS: Code Congestion Times [Whole Network_Daily]', markers=True)
            fig7 = px.line(wnd, x='Date', y='CS Call Setup Success Rate (%)', title='UMTS: CS CSSR (%) [Whole Network_Daily]', markers=True)
            fig8 = px.line(wnd, x='Date', y='PS Call Setup Success Rate (%)', title='UMTS: PS CSSR (%) [Whole Network_Daily]', markers=True)
            fig9 = px.line(wnd, x='Date', y='CS DCR (%)(%)', title='UMTS: CS CDR (%) [Whole Network_Daily]', markers=True)
            fig10 = px.line(wnd, x='Date', y='PS DCR (%)(%)', title='UMTS: PS CDR (%) [Whole Network_Daily]', markers=True)
            fig11 = px.line(wnd, x='Date', y='RAB DLPower Congestion', title='UMTS: DL Pwr Congestion [Whole Network_Daily]', markers=True)
    elif (gran=='hly') and (rptype=='WN'):
            fig1 = px.line(wnh, x='DateTime', y='Cell Availability(%)', title='UMTS: Cell Availability (%) [Whole Network_Hourly]', markers=True)
            fig2 = px.line(wnh, x='DateTime', y='CS Traffic (Erl)', title='UMTS: CS Traffic (Erl) [Whole Network_Hourly]', markers=True)
            fig3 = px.line(wnh, x='DateTime', y='PS Traffic (MB)(MB)', title='UMTS: PS Traffic (MB) [Whole Network_Hourly]', markers=True)
            fig4 = px.line(wnh, x='DateTime', y='VS.MeanRTWP(dBm)', title='UMTS: Interference (dBm) [Whole Network_Hourly]', markers=True)
            fig5 = px.line(wnh, x='DateTime', y='Mute Call Counts', title='UMTS: Mute Call Counts [Whole Network_Hourly]', markers=True)
            fig6 = px.line(wnh, x='DateTime', y='M-Code Congestion(Times)', title='UMTS: Code Congestion Times [Whole Network_Hourly]', markers=True)
            fig7 = px.line(wnh, x='DateTime', y='CS Call Setup Success Rate (%)', title='UMTS: CS CSSR (%) [Whole Network_Hourly]', markers=True)
            fig8 = px.line(wnh, x='DateTime', y='PS Call Setup Success Rate (%)', title='UMTS: PS CSSR (%) [Whole Network_Hourly]', markers=True)
            fig9 = px.line(wnh, x='DateTime', y='CS DCR (%)(%)', title='UMTS: CS CDR (%) [Whole Network_Hourly]', markers=True)
            fig10 = px.line(wnh, x='DateTime', y='PS DCR (%)(%)', title='UMTS: PS CDR (%) [Whole Network_Hourly]', markers=True)
            fig11 = px.line(wnh, x='DateTime', y='RAB DLPower Congestion', title='UMTS: DL Pwr Congestion [Whole Network_Hourly]', markers=True)
    elif (gran=='dly') and (rptype=='RGN'):
            fig1 = px.line(rgnd, x='Date', color='Region', y='Cell Availability(%)', title='UMTS: Cell Availability (%) [Regional_Daily]', markers=True)
            fig2 = px.line(rgnd, x='Date', color='Region', y='CS Traffic (Erl)', title='UMTS: CS Traffic (Erl) [Regional_Daily]', markers=True)
            fig3 = px.line(rgnd, x='Date', color='Region', y='PS Traffic (MB)(MB)', title='UMTS: PS Traffic (MB) [Regional_Daily]', markers=True)
            fig4 = px.line(rgnd, x='Date', color='Region', y='VS.MeanRTWP(dBm)', title='UMTS: Interference (dBm) [Regional_Daily]', markers=True)
            fig5 = px.line(rgnd, x='Date', color='Region', y='Mute Call Counts', title='UMTS: Mute Call Counts [Regional_Daily]', markers=True)
            fig6 = px.line(rgnd, x='Date', color='Region', y='M-Code Congestion(Times)', title='UMTS: Code Congestion Times [Regional_Daily]', markers=True)
            fig7 = px.line(rgnd, x='Date', color='Region', y='CS Call Setup Success Rate (%)', title='UMTS: CS CSSR (%) [Regional_Daily]', markers=True)
            fig8 = px.line(rgnd, x='Date', color='Region', y='PS Call Setup Success Rate (%)', title='UMTS: PS CSSR (%) [Regional_Daily]', markers=True)
            fig9 = px.line(rgnd, x='Date', color='Region', y='CS DCR (%)(%)', title='UMTS: CS CDR (%) [Regional_Daily]', markers=True)
            fig10 = px.line(rgnd, x='Date', color='Region', y='PS DCR (%)(%)', title='UMTS: PS CDR (%) [Regional_Daily]', markers=True)
            fig11 = px.line(rgnd, x='Date', color='Region', y='RAB DLPower Congestion', title='UMTS: DL Pwr Congestion [Regional_Daily]', markers=True)
    elif (gran=='hly') and (rptype=='RGN'):
            fig1 = px.line(rgnh, x='DateTime', color='Region', y='Cell Availability(%)', title='UMTS: Cell Availability (%) [Regional_Hourly]', markers=True)
            fig2 = px.line(rgnh, x='DateTime', color='Region', y='CS Traffic (Erl)', title='UMTS: CS Traffic (Erl) [Regional_Hourly]', markers=True)
            fig3 = px.line(rgnh, x='DateTime', color='Region', y='PS Traffic (MB)(MB)', title='UMTS: PS Traffic (MB) [Regional_Hourly]', markers=True)
            fig4 = px.line(rgnh, x='DateTime', color='Region', y='VS.MeanRTWP(dBm)', title='UMTS: Interference (dBm) [Regional_Hourly]', markers=True)
            fig5 = px.line(rgnh, x='DateTime', color='Region', y='Mute Call Counts', title='UMTS: Mute Call Counts [Regional_Hourly]', markers=True)
            fig6 = px.line(rgnh, x='DateTime', color='Region', y='M-Code Congestion(Times)', title='UMTS: Code Congestion Times [Regional_Hourly]', markers=True)
            fig7 = px.line(rgnh, x='DateTime', color='Region', y='CS Call Setup Success Rate (%)', title='UMTS: CS CSSR (%) [Regional_Hourly]', markers=True)
            fig8 = px.line(rgnh, x='DateTime', color='Region', y='PS Call Setup Success Rate (%)', title='UMTS: PS CSSR (%) [Regional_Hourly]', markers=True)
            fig9 = px.line(rgnh, x='DateTime', color='Region', y='CS DCR (%)(%)', title='UMTS: CS CDR (%) [Regional_Hourly]', markers=True)
            fig10 = px.line(rgnh, x='DateTime', color='Region', y='PS DCR (%)(%)', title='UMTS: PS CDR (%) [Regional_Hourly]', markers=True)
            fig11 = px.line(rgnh, x='DateTime', color='Region', y='RAB DLPower Congestion', title='UMTS: DL Pwr Congestion [Regional_Hourly]', markers=True)               
    
else:
    wnd, wnh, rgnd, rgnh = gsm_gp(G)
    if (gran=='dly') and (rptype=='WN'):
            fig1 = px.line(wnd, x='Date', y='TR373:Cell Availability(%)', title='GSM: Cell Availability (%) [Whole Network_Daily]', markers=True)
            fig2 = px.line(wnd, x='Date', y='CS Traffic (Erl)', title='GSM: CS Traffic (Erl) [Whole Network_Daily]', markers=True)
            fig3 = px.line(wnd, x='Date', y='PS Traffic (MB)', title='GSM: PS Traffic (MB) [Whole Network_Daily]', markers=True)
            fig4 = px.line(wnd, x='Date', y='Interference Band[4-5]%', title='GSM: Interference (%) [Whole Network_Daily]', markers=True)
            fig5 = px.line(wnd, x='Date', y='Mute Call Counts', title='GSM: Mute Call Counts [Whole Network_Daily]', markers=True)
            fig6 = px.line(wnd, x='Date', y='CS SSR (%)', title='GSM: CS CSSR (%) [Whole Network_Daily]', markers=True)
            fig7 = px.line(wnd, x='Date', y='PS CSSR (%)(%)', title='GSM: PS CSSR (%) [Whole Network_Daily]', markers=True)
            fig8 = px.line(wnd, x='Date', y='GSM Utilization(%)', title='GSM: Utilization (%) [Whole Network_Daily]', markers=True)
            fig9 = px.line(wnd, x='Date', y='VAMOS Traffic(Erl)', title='GSM: VAMOS Traffic (Erl) [Whole Network_Daily]', markers=True)
            fig10 = px.line(wnd, x='Date', y='GSM TCH Congestion Rate(%)', title='GSM: TCH Cong Rate (%) [Whole Network_Daily]', markers=True)
            fig11 = px.line(wnd, x='Date', y='SDCCH Cong Rate (%)(%)', title='GSM: SDCCH Congestion Rate (%) [Whole Network_Daily]', markers=True)
    elif (gran=='hly') and (rptype=='WN'):
            fig1 = px.line(wnh, x='DateTime', y='TR373:Cell Availability(%)', title='GSM: Cell Availability (%) [Whole Network_Hourly]', markers=True)
            fig2 = px.line(wnh, x='DateTime', y='CS Traffic (Erl)', title='GSM: CS Traffic (Erl) [Whole Network_Hourly]', markers=True)
            fig3 = px.line(wnh, x='DateTime', y='PS Traffic (MB)', title='GSM: PS Traffic (MB) [Whole Network_Hourly]', markers=True)
            fig4 = px.line(wnh, x='DateTime', y='Interference Band[4-5]%', title='GSM: Interference (%) [Whole Network_Hourly]', markers=True)
            fig5 = px.line(wnh, x='DateTime', y='Mute Call Counts', title='GSM: Mute Call Counts [Whole Network_Hourly]', markers=True)
            fig6 = px.line(wnh, x='DateTime', y='CS SSR (%)', title='GSM: CS CSSR (%) [Whole Network_Hourly]', markers=True)
            fig7 = px.line(wnh, x='DateTime', y='PS CSSR (%)(%)', title='GSM: PS CSSR (%) [Whole Network_Hourly]', markers=True)
            fig8 = px.line(wnh, x='DateTime', y='GSM Utilization(%)', title='GSM: Utilization (%) [Whole Network_Hourly]', markers=True)
            fig9 = px.line(wnh, x='DateTime', y='VAMOS Traffic(Erl)', title='GSM: VAMOS Traffic (Erl) [Whole Network_Hourly]', markers=True)
            fig10 = px.line(wnh, x='DateTime', y='GSM TCH Congestion Rate(%)', title='GSM: TCH Cong Rate (%) [Whole Network_Hourly]', markers=True)
            fig11 = px.line(wnh, x='DateTime', y='SDCCH Cong Rate (%)(%)', title='GSM: SDCCH Congestion Rate (%) [Whole Network_Hourly]', markers=True)
    elif (gran=='dly') and (rptype=='RGN'):
            fig1 = px.line(rgnd, x='Date', color='Region', y='TR373:Cell Availability(%)', title='GSM: Cell Availability (%) [Regional_Daily]', markers=True)
            fig2 = px.line(rgnd, x='Date', color='Region', y='CS Traffic (Erl)', title='GSM: CS Traffic (Erl) [Regional_Daily]', markers=True)
            fig3 = px.line(rgnd, x='Date', color='Region', y='PS Traffic (MB)', title='GSM: PS Traffic (MB) [Regional_Daily]', markers=True)
            fig4 = px.line(rgnd, x='Date', color='Region', y='Interference Band[4-5]%', title='GSM: Interference (%) [Regional_Daily]', markers=True)
            fig5 = px.line(rgnd, x='Date', color='Region', y='Mute Call Counts', title='GSM: Mute Call Counts [Regional_Daily]', markers=True)
            fig6 = px.line(rgnd, x='Date', color='Region', y='CS SSR (%)', title='GSM: CS CSSR (%) [Regional_Daily]', markers=True)
            fig7 = px.line(rgnd, x='Date', color='Region', y='PS CSSR (%)(%)', title='GSM: PS CSSR (%) [Regional_Daily]', markers=True)
            fig8 = px.line(rgnd, x='Date', color='Region', y='GSM Utilization(%)', title='GSM: Utilization (%) [Regional_Daily]', markers=True)
            fig9 = px.line(rgnd, x='Date', color='Region', y='VAMOS Traffic(Erl)', title='GSM: VAMOS Traffic (Erl) [Regional_Daily]', markers=True)
            fig10 = px.line(rgnd, x='Date', color='Region', y='GSM TCH Congestion Rate(%)', title='GSM: TCH Cong Rate (%) [Regional_Daily]', markers=True)
            fig11 = px.line(rgnd, x='Date', color='Region', y='SDCCH Cong Rate (%)(%)', title='GSM: SDCCH Congestion Rate (%) [Regional_Daily]', markers=True)
    elif (gran=='hly') and (rptype=='RGN'):
            fig1 = px.line(rgnh, x='DateTime', color='Region', y='TR373:Cell Availability(%)', title='GSM: Cell Availability (%) [Regional_Hourly]', markers=True)
            fig2 = px.line(rgnh, x='DateTime', color='Region', y='CS Traffic (Erl)', title='GSM: CS Traffic (Erl) [Regional_Hourly]', markers=True)
            fig3 = px.line(rgnh, x='DateTime', color='Region', y='PS Traffic (MB)', title='GSM: PS Traffic (MB) [Regional_Hourly]', markers=True)
            fig4 = px.line(rgnh, x='DateTime', color='Region', y='Interference Band[4-5]%', title='GSM: Interference (%) [Regional_Hourly]', markers=True)
            fig5 = px.line(rgnh, x='DateTime', color='Region', y='Mute Call Counts', title='GSM: Mute Call Counts [Regional_Hourly]', markers=True)
            fig6 = px.line(rgnh, x='DateTime', color='Region', y='CS SSR (%)', title='GSM: CS CSSR (%) [Regional_Hourly]', markers=True)
            fig7 = px.line(rgnh, x='DateTime', color='Region', y='PS CSSR (%)(%)', title='GSM: PS CSSR (%) [Regional_Hourly]', markers=True)
            fig8 = px.line(rgnh, x='DateTime', color='Region', y='GSM Utilization(%)', title='GSM: Utilization (%) [Regional_Hourly]', markers=True)
            fig9 = px.line(rgnh, x='DateTime', color='Region', y='VAMOS Traffic(Erl)', title='GSM: VAMOS Traffic (Erl) [Regional_Hourly]', markers=True)
            fig10 = px.line(rgnh, x='DateTime', color='Region', y='GSM TCH Congestion Rate(%)', title='GSM: TCH Cong Rate (%) [Regional_Hourly]', markers=True)
            fig11 = px.line(rgnh, x='DateTime', color='Region', y='SDCCH Cong Rate (%)(%)', title='GSM: SDCCH Congestion Rate (%) [Regional_Hourly]', markers=True)   
fig1.show()
fig2.show()
fig3.show()
fig4.show()
fig5.show()
fig6.show()
fig7.show()
fig8.show()
fig9.show()
fig10.show()
fig11.show()


@app.callback([Output(component_id='plot-1', component_property='children'), Output(component_id='plot-2', component_property='children'),
               Output(component_id='plot-3', component_property='children'), Output(component_id='plot-4', component_property='children'),
               Output(component_id='plot-5', component_property='children'), Output(component_id='plot-6', component_property='children'),
               Output(component_id='plot-7', component_property='children'), Output(component_id='plot-8', component_property='children'),
               Output(component_id='plot-9', component_property='children'), Output(component_id='plot-10', component_property='children'),
               Output(component_id='plot-11', component_property='children')],
              [Input(component_id='technology', component_property='value'), Input(component_id='granularity', component_property='value'),
               Input(component_id='report-type', component_property='value')],
              [State('plot-1', 'children'), State('plot-2', 'children'), State('plot-3', 'children'), State('plot-4', 'children'),
               State('plot-5', 'children'), State('plot-6', 'children'), State('plot-7', 'children'), State('plot-8', 'children'),
               State('plot-9', 'children'), State('plot-10', 'children'), State('plot-11', 'children')])

def get_graph_data(tech, gran, rptype, p1, p2, p3, p4, p5, p6, p7, p8, p9, p10, p11):
    if (tech == 'L'):
        wnd, wnh, rgnd, rgnh = lte_gp(L)
        if (gran=='dly') and (rptype=='WN'):
            fig1 = px.line(wnd, x='Date', y='Cell Availability(%)', title='LTE: Cell Availability (%) [Whole Network_Daily]', markers=True)
            fig2 = px.line(wnd, x='Date', y='Traffic Volume (GB)', title='LTE: PS Traffic (GB) [Whole Network_Daily]', markers=True)
            fig3 = px.line(wnd, x='Date', y='E2E Call Setup Success Rate (%)', title='LTE: E2E CSSR (%) [Whole Network_Daily]', markers=True)
            fig4 = px.line(wnd, x='Date', y='SDR (%)', title='LTE: SDR (%) [Whole Network_Daily]', markers=True)
            fig5 = px.line(wnd, x='Date', y='L.UL.Interference.Avg(dBm)', title='LTE: Interference (dBm) [Whole Network_Daily]', markers=True)
            fig6 = px.line(wnd, x='Date', y='RRC Connected Users', title='LTE: RRC Connected Users [Whole Network_Daily]', markers=True)
            fig7 = px.line(wnd, x='Date', y='Average DL User Throughput(Mbps)', title='LTE: DL User Thpt (Mbps) [Whole Network_Daily]', markers=True)
            fig8 = px.line(wnd, x='Date', y='DL PRB Utilization (%)', title='LTE: DL PRB Utilization (%) [Whole Network_Daily]', markers=True)
            fig9 = px.line(wnd, x='Date', y='CSFB CSSR (%)', title='LTE: CSFB CSSR [Whole Network_Daily]', markers=True)
            fig10 = px.line(wnd, x='Date', y='Inter-freq HOSR(%)', title='LTE: IntEr-freq HOSR (%) [Whole Network_Daily]', markers=True)
            fig11 = px.line(wnd, x='Date', y='Intra-freq HOSR (%)', title='LTE: IntRa-freq HOSR (%) [Whole Network_Daily]', markers=True)
        elif (gran=='hly') and (rptype=='WN'):
            fig1 = px.line(wnh, x='DateTime', y='Cell Availability(%)', title='LTE: Cell Availability (%) [Whole Network_Hourly]', markers=True)
            fig2 = px.line(wnh, x='DateTime', y='Traffic Volume (GB)', title='LTE: PS Traffic (GB) [Whole Network_Hourly]', markers=True)
            fig3 = px.line(wnh, x='DateTime', y='E2E Call Setup Success Rate (%)', title='LTE: E2E CSSR (%) [Whole Network_Hourly]', markers=True)
            fig4 = px.line(wnh, x='DateTime', y='SDR (%)', title='LTE: SDR (%) [Whole Network_Hourly]', markers=True)
            fig5 = px.line(wnh, x='DateTime', y='L.UL.Interference.Avg(dBm)', title='LTE: Interference (dBm) [Whole Network_Hourly]', markers=True)
            fig6 = px.line(wnh, x='DateTime', y='RRC Connected Users', title='LTE: RRC Connected Users [Whole Network_Hourly]', markers=True)
            fig7 = px.line(wnh, x='DateTime', y='Average DL User Throughput(Mbps)', title='LTE: DL User Thpt (Mbps) [Whole Network_Hourly]', markers=True)
            fig8 = px.line(wnh, x='DateTime', y='DL PRB Utilization (%)', title='LTE: DL PRB Utilization (%) [Whole Network_Hourly]', markers=True)
            fig9 = px.line(wnh, x='DateTime', y='CSFB CSSR (%)', title='LTE: CSFB CSSR [Whole Network_Hourly]', markers=True)
            fig10 = px.line(wnh, x='DateTime', y='Inter-freq HOSR(%)', title='LTE: IntEr-freq HOSR (%) [Whole Network_Hourly]', markers=True)
            fig11 = px.line(wnh, x='DateTime', y='Intra-freq HOSR (%)', title='LTE: IntRa-freq HOSR (%) [Whole Network_Hourly]', markers=True)
        elif(gran=='dly') and (rptype=='RGN'):
            fig1 = px.line(rgnd, x='Date', color='Region', y='Cell Availability(%)', title='LTE: Cell Availability (%) [Regional_Daily]', markers=True)
            fig2 = px.line(rgnd, x='Date', color='Region', y='Traffic Volume (GB)', title='LTE: PS Traffic (GB) [Regional_Daily]', markers=True)
            fig3 = px.line(rgnd, x='Date', color='Region', y='E2E Call Setup Success Rate (%)', title='LTE: E2E CSSR (%) [Regional_Daily]', markers=True)
            fig4 = px.line(rgnd, x='Date', color='Region', y='SDR (%)', title='LTE: SDR (%) [Regional_Daily]', markers=True)
            fig5 = px.line(rgnd, x='Date', color='Region', y='L.UL.Interference.Avg(dBm)', title='LTE: Interference (dBm) [Regional_Daily]', markers=True)
            fig6 = px.line(rgnd, x='Date', color='Region', y='RRC Connected Users', title='LTE: RRC Connected Users [Regional_Daily]', markers=True)
            fig7 = px.line(rgnd, x='Date', color='Region', y='Average DL User Throughput(Mbps)', title='LTE: DL User Thpt (Mbps) [Regional_Daily]', markers=True)
            fig8 = px.line(rgnd, x='Date', color='Region', y='DL PRB Utilization (%)', title='LTE: DL PRB Utilization (%) [Regional_Daily]', markers=True)
            fig9 = px.line(rgnd, x='Date', color='Region', y='CSFB CSSR (%)', title='LTE: CSFB CSSR [Regional_Daily]', markers=True)
            fig10 = px.line(rgnd, x='Date', color='Region', y='Inter-freq HOSR(%)', title='LTE: IntEr-freq HOSR (%) [Regional_Daily]', markers=True)
            fig11 = px.line(rgnd, x='Date', color='Region', y='Intra-freq HOSR (%)', title='LTE: IntRa-freq HOSR (%) [Regional_Daily]', markers=True)
        elif(gran=='hly') and (rptype=='RGN'):
            fig1 = px.line(rgnh, x='DateTime', color='Region', y='Cell Availability(%)', title='LTE: Cell Availability (%) [Regional_Hourly]', markers=True)
            fig2 = px.line(rgnh, x='DateTime', color='Region', y='Traffic Volume (GB)', title='LTE: PS Traffic (GB) [Regional_Hourly]', markers=True)
            fig3 = px.line(rgnh, x='DateTime', color='Region', y='E2E Call Setup Success Rate (%)', title='LTE: E2E CSSR (%) [Regional_Hourly]', markers=True)
            fig4 = px.line(rgnh, x='DateTime', color='Region', y='SDR (%)', title='LTE: SDR (%) [Regional_Hourly]', markers=True)
            fig5 = px.line(rgnh, x='DateTime', color='Region', y='L.UL.Interference.Avg(dBm)', title='LTE: Interference (dBm) [Regional_Hourly]', markers=True)
            fig6 = px.line(rgnh, x='DateTime', color='Region', y='RRC Connected Users', title='LTE: RRC Connected Users [Regional_Hourly]', markers=True)
            fig7 = px.line(rgnh, x='DateTime', color='Region', y='Average DL User Throughput(Mbps)', title='LTE: DL User Thpt (Mbps) [Regional_Hourly]', markers=True)
            fig8 = px.line(rgnh, x='DateTime', color='Region', y='DL PRB Utilization (%)', title='LTE: DL PRB Utilization (%) [Regional_Hourly]', markers=True)
            fig9 = px.line(rgnh, x='DateTime', color='Region', y='CSFB CSSR (%)', title='LTE: CSFB CSSR [Regional_Hourly]', markers=True)
            fig10 = px.line(rgnh, x='DateTime', color='Region', y='Inter-freq HOSR(%)', title='LTE: IntEr-freq HOSR (%) [Regional_Hourly]', markers=True)
            fig11 = px.line(rgnh, x='DateTime', color='Region', y='Intra-freq HOSR (%)', title='LTE: IntRa-freq HOSR (%) [Regional_Hourly]', markers=True)
            
    elif (tech == 'U'):
        wnd, wnh, rgnd, rgnh = umts_gp(U)
        if (gran=='dly') and (rptype=='WN'):
            fig1 = px.line(wnd, x='Date', y='Cell Availability(%)', title='UMTS: Cell Availability (%) [Whole Network_Daily]', markers=True)
            fig2 = px.line(wnd, x='Date', y='CS Traffic (Erl)', title='UMTS: CS Traffic (Erl) [Whole Network_Daily]', markers=True)
            fig3 = px.line(wnd, x='Date', y='PS Traffic (MB)(MB)', title='UMTS: PS Traffic (MB) [Whole Network_Daily]', markers=True)
            fig4 = px.line(wnd, x='Date', y='VS.MeanRTWP(dBm)', title='UMTS: Interference (dBm) [Whole Network_Daily]', markers=True)
            fig5 = px.line(wnd, x='Date', y='Mute Call Counts', title='UMTS: Mute Call Counts [Whole Network_Daily]', markers=True)
            fig6 = px.line(wnd, x='Date', y='M-Code Congestion(Times)', title='UMTS: Code Congestion Times [Whole Network_Daily]', markers=True)
            fig7 = px.line(wnd, x='Date', y='CS Call Setup Success Rate (%)', title='UMTS: CS CSSR (%) [Whole Network_Daily]', markers=True)
            fig8 = px.line(wnd, x='Date', y='PS Call Setup Success Rate (%)', title='UMTS: PS CSSR (%) [Whole Network_Daily]', markers=True)
            fig9 = px.line(wnd, x='Date', y='CS DCR (%)(%)', title='UMTS: CS CDR (%) [Whole Network_Daily]', markers=True)
            fig10 = px.line(wnd, x='Date', y='PS DCR (%)(%)', title='UMTS: PS CDR (%) [Whole Network_Daily]', markers=True)
            fig11 = px.line(wnd, x='Date', y='RAB DLPower Congestion', title='UMTS: DL Pwr Congestion [Whole Network_Daily]', markers=True)
        elif (gran=='hly') and (rptype=='WN'):
            fig1 = px.line(wnh, x='DateTime', y='Cell Availability(%)', title='UMTS: Cell Availability (%) [Whole Network_Hourly]', markers=True)
            fig2 = px.line(wnh, x='DateTime', y='CS Traffic (Erl)', title='UMTS: CS Traffic (Erl) [Whole Network_Hourly]', markers=True)
            fig3 = px.line(wnh, x='DateTime', y='PS Traffic (MB)(MB)', title='UMTS: PS Traffic (MB) [Whole Network_Hourly]', markers=True)
            fig4 = px.line(wnh, x='DateTime', y='VS.MeanRTWP(dBm)', title='UMTS: Interference (dBm) [Whole Network_Hourly]', markers=True)
            fig5 = px.line(wnh, x='DateTime', y='Mute Call Counts', title='UMTS: Mute Call Counts [Whole Network_Hourly]', markers=True)
            fig6 = px.line(wnh, x='DateTime', y='M-Code Congestion(Times)', title='UMTS: Code Congestion Times [Whole Network_Hourly]', markers=True)
            fig7 = px.line(wnh, x='DateTime', y='CS Call Setup Success Rate (%)', title='UMTS: CS CSSR (%) [Whole Network_Hourly]', markers=True)
            fig8 = px.line(wnh, x='DateTime', y='PS Call Setup Success Rate (%)', title='UMTS: PS CSSR (%) [Whole Network_Hourly]', markers=True)
            fig9 = px.line(wnh, x='DateTime', y='CS DCR (%)(%)', title='UMTS: CS CDR (%) [Whole Network_Hourly]', markers=True)
            fig10 = px.line(wnh, x='DateTime', y='PS DCR (%)(%)', title='UMTS: PS CDR (%) [Whole Network_Hourly]', markers=True)
            fig11 = px.line(wnh, x='DateTime', y='RAB DLPower Congestion', title='UMTS: DL Pwr Congestion [Whole Network_Hourly]', markers=True)
        elif (gran=='dly') and (rptype=='RGN'):
            fig1 = px.line(rgnd, x='Date', color='Region', y='Cell Availability(%)', title='UMTS: Cell Availability (%) [Regional_Daily]', markers=True)
            fig2 = px.line(rgnd, x='Date', color='Region', y='CS Traffic (Erl)', title='UMTS: CS Traffic (Erl) [Regional_Daily]', markers=True)
            fig3 = px.line(rgnd, x='Date', color='Region', y='PS Traffic (MB)(MB)', title='UMTS: PS Traffic (MB) [Regional_Daily]', markers=True)
            fig4 = px.line(rgnd, x='Date', color='Region', y='VS.MeanRTWP(dBm)', title='UMTS: Interference (dBm) [Regional_Daily]', markers=True)
            fig5 = px.line(rgnd, x='Date', color='Region', y='Mute Call Counts', title='UMTS: Mute Call Counts [Regional_Daily]', markers=True)
            fig6 = px.line(rgnd, x='Date', color='Region', y='M-Code Congestion(Times)', title='UMTS: Code Congestion Times [Regional_Daily]', markers=True)
            fig7 = px.line(rgnd, x='Date', color='Region', y='CS Call Setup Success Rate (%)', title='UMTS: CS CSSR (%) [Regional_Daily]', markers=True)
            fig8 = px.line(rgnd, x='Date', color='Region', y='PS Call Setup Success Rate (%)', title='UMTS: PS CSSR (%) [Regional_Daily]', markers=True)
            fig9 = px.line(rgnd, x='Date', color='Region', y='CS DCR (%)(%)', title='UMTS: CS CDR (%) [Regional_Daily]', markers=True)
            fig10 = px.line(rgnd, x='Date', color='Region', y='PS DCR (%)(%)', title='UMTS: PS CDR (%) [Regional_Daily]', markers=True)
            fig11 = px.line(rgnd, x='Date', color='Region', y='RAB DLPower Congestion', title='UMTS: DL Pwr Congestion [Regional_Daily]', markers=True)
        elif (gran=='hly') and (rptype=='RGN'):
            fig1 = px.line(rgnh, x='DateTime', color='Region', y='Cell Availability(%)', title='UMTS: Cell Availability (%) [Regional_Hourly]', markers=True)
            fig2 = px.line(rgnh, x='DateTime', color='Region', y='CS Traffic (Erl)', title='UMTS: CS Traffic (Erl) [Regional_Hourly]', markers=True)
            fig3 = px.line(rgnh, x='DateTime', color='Region', y='PS Traffic (MB)(MB)', title='UMTS: PS Traffic (MB) [Regional_Hourly]', markers=True)
            fig4 = px.line(rgnh, x='DateTime', color='Region', y='VS.MeanRTWP(dBm)', title='UMTS: Interference (dBm) [Regional_Hourly]', markers=True)
            fig5 = px.line(rgnh, x='DateTime', color='Region', y='Mute Call Counts', title='UMTS: Mute Call Counts [Regional_Hourly]', markers=True)
            fig6 = px.line(rgnh, x='DateTime', color='Region', y='M-Code Congestion(Times)', title='UMTS: Code Congestion Times [Regional_Hourly]', markers=True)
            fig7 = px.line(rgnh, x='DateTime', color='Region', y='CS Call Setup Success Rate (%)', title='UMTS: CS CSSR (%) [Regional_Hourly]', markers=True)
            fig8 = px.line(rgnh, x='DateTime', color='Region', y='PS Call Setup Success Rate (%)', title='UMTS: PS CSSR (%) [Regional_Hourly]', markers=True)
            fig9 = px.line(rgnh, x='DateTime', color='Region', y='CS DCR (%)(%)', title='UMTS: CS CDR (%) [Regional_Hourly]', markers=True)
            fig10 = px.line(rgnh, x='DateTime', color='Region', y='PS DCR (%)(%)', title='UMTS: PS CDR (%) [Regional_Hourly]', markers=True)
            fig11 = px.line(rgnh, x='DateTime', color='Region', y='RAB DLPower Congestion', title='UMTS: DL Pwr Congestion [Regional_Hourly]', markers=True)               
    
    else:
        wnd, wnh, rgnd, rgnh = gsm_gp(G)
        if (gran=='dly') and (rptype=='WN'):
            fig1 = px.line(wnd, x='Date', y='TR373:Cell Availability(%)', title='GSM: Cell Availability (%) [Whole Network_Daily]', markers=True)
            fig2 = px.line(wnd, x='Date', y='CS Traffic (Erl)', title='GSM: CS Traffic (Erl) [Whole Network_Daily]', markers=True)
            fig3 = px.line(wnd, x='Date', y='PS Traffic (MB)', title='GSM: PS Traffic (MB) [Whole Network_Daily]', markers=True)
            fig4 = px.line(wnd, x='Date', y='Interference Band[4-5]%', title='GSM: Interference (%) [Whole Network_Daily]', markers=True)
            fig5 = px.line(wnd, x='Date', y='Mute Call Counts', title='GSM: Mute Call Counts [Whole Network_Daily]', markers=True)
            fig6 = px.line(wnd, x='Date', y='CS SSR (%)', title='GSM: CS CSSR (%) [Whole Network_Daily]', markers=True)
            fig7 = px.line(wnd, x='Date', y='PS CSSR (%)(%)', title='GSM: PS CSSR (%) [Whole Network_Daily]', markers=True)
            fig8 = px.line(wnd, x='Date', y='GSM Utilization(%)', title='GSM: Utilization (%) [Whole Network_Daily]', markers=True)
            fig9 = px.line(wnd, x='Date', y='VAMOS Traffic(Erl)', title='GSM: VAMOS Traffic (Erl) [Whole Network_Daily]', markers=True)
            fig10 = px.line(wnd, x='Date', y='GSM TCH Congestion Rate(%)', title='GSM: TCH Cong Rate (%) [Whole Network_Daily]', markers=True)
            fig11 = px.line(wnd, x='Date', y='SDCCH Cong Rate (%)(%)', title='GSM: SDCCH Congestion Rate (%) [Whole Network_Daily]', markers=True)
        elif (gran=='hly') and (rptype=='WN'):
            fig1 = px.line(wnh, x='DateTime', y='TR373:Cell Availability(%)', title='GSM: Cell Availability (%) [Whole Network_Hourly]', markers=True)
            fig2 = px.line(wnh, x='DateTime', y='CS Traffic (Erl)', title='GSM: CS Traffic (Erl) [Whole Network_Hourly]', markers=True)
            fig3 = px.line(wnh, x='DateTime', y='PS Traffic (MB)', title='GSM: PS Traffic (MB) [Whole Network_Hourly]', markers=True)
            fig4 = px.line(wnh, x='DateTime', y='Interference Band[4-5]%', title='GSM: Interference (%) [Whole Network_Hourly]', markers=True)
            fig5 = px.line(wnh, x='DateTime', y='Mute Call Counts', title='GSM: Mute Call Counts [Whole Network_Hourly]', markers=True)
            fig6 = px.line(wnh, x='DateTime', y='CS SSR (%)', title='GSM: CS CSSR (%) [Whole Network_Hourly]', markers=True)
            fig7 = px.line(wnh, x='DateTime', y='PS CSSR (%)(%)', title='GSM: PS CSSR (%) [Whole Network_Hourly]', markers=True)
            fig8 = px.line(wnh, x='DateTime', y='GSM Utilization(%)', title='GSM: Utilization (%) [Whole Network_Hourly]', markers=True)
            fig9 = px.line(wnh, x='DateTime', y='VAMOS Traffic(Erl)', title='GSM: VAMOS Traffic (Erl) [Whole Network_Hourly]', markers=True)
            fig10 = px.line(wnh, x='DateTime', y='GSM TCH Congestion Rate(%)', title='GSM: TCH Cong Rate (%) [Whole Network_Hourly]', markers=True)
            fig11 = px.line(wnh, x='DateTime', y='SDCCH Cong Rate (%)(%)', title='GSM: SDCCH Congestion Rate (%) [Whole Network_Hourly]', markers=True)
        elif (gran=='dly') and (rptype=='RGN'):
            fig1 = px.line(rgnd, x='Date', color='Region', y='TR373:Cell Availability(%)', title='GSM: Cell Availability (%) [Regional_Daily]', markers=True)
            fig2 = px.line(rgnd, x='Date', color='Region', y='CS Traffic (Erl)', title='GSM: CS Traffic (Erl) [Regional_Daily]', markers=True)
            fig3 = px.line(rgnd, x='Date', color='Region', y='PS Traffic (MB)', title='GSM: PS Traffic (MB) [Regional_Daily]', markers=True)
            fig4 = px.line(rgnd, x='Date', color='Region', y='Interference Band[4-5]%', title='GSM: Interference (%) [Regional_Daily]', markers=True)
            fig5 = px.line(rgnd, x='Date', color='Region', y='Mute Call Counts', title='GSM: Mute Call Counts [Regional_Daily]', markers=True)
            fig6 = px.line(rgnd, x='Date', color='Region', y='CS SSR (%)', title='GSM: CS CSSR (%) [Regional_Daily]', markers=True)
            fig7 = px.line(rgnd, x='Date', color='Region', y='PS CSSR (%)(%)', title='GSM: PS CSSR (%) [Regional_Daily]', markers=True)
            fig8 = px.line(rgnd, x='Date', color='Region', y='GSM Utilization(%)', title='GSM: Utilization (%) [Regional_Daily]', markers=True)
            fig9 = px.line(rgnd, x='Date', color='Region', y='VAMOS Traffic(Erl)', title='GSM: VAMOS Traffic (Erl) [Regional_Daily]', markers=True)
            fig10 = px.line(rgnd, x='Date', color='Region', y='GSM TCH Congestion Rate(%)', title='GSM: TCH Cong Rate (%) [Regional_Daily]', markers=True)
            fig11 = px.line(rgnd, x='Date', color='Region', y='SDCCH Cong Rate (%)(%)', title='GSM: SDCCH Congestion Rate (%) [Regional_Daily]', markers=True)
        elif (gran=='hly') and (rptype=='RGN'):
            fig1 = px.line(rgnh, x='DateTime', color='Region', y='TR373:Cell Availability(%)', title='GSM: Cell Availability (%) [Regional_Hourly]', markers=True)
            fig2 = px.line(rgnh, x='DateTime', color='Region', y='CS Traffic (Erl)', title='GSM: CS Traffic (Erl) [Regional_Hourly]', markers=True)
            fig3 = px.line(rgnh, x='DateTime', color='Region', y='PS Traffic (MB)', title='GSM: PS Traffic (MB) [Regional_Hourly]', markers=True)
            fig4 = px.line(rgnh, x='DateTime', color='Region', y='Interference Band[4-5]%', title='GSM: Interference (%) [Regional_Hourly]', markers=True)
            fig5 = px.line(rgnh, x='DateTime', color='Region', y='Mute Call Counts', title='GSM: Mute Call Counts [Regional_Hourly]', markers=True)
            fig6 = px.line(rgnh, x='DateTime', color='Region', y='CS SSR (%)', title='GSM: CS CSSR (%) [Regional_Hourly]', markers=True)
            fig7 = px.line(rgnh, x='DateTime', color='Region', y='PS CSSR (%)(%)', title='GSM: PS CSSR (%) [Regional_Hourly]', markers=True)
            fig8 = px.line(rgnh, x='DateTime', color='Region', y='GSM Utilization(%)', title='GSM: Utilization (%) [Regional_Hourly]', markers=True)
            fig9 = px.line(rgnh, x='DateTime', color='Region', y='VAMOS Traffic(Erl)', title='GSM: VAMOS Traffic (Erl) [Regional_Hourly]', markers=True)
            fig10 = px.line(rgnh, x='DateTime', color='Region', y='GSM TCH Congestion Rate(%)', title='GSM: TCH Cong Rate (%) [Regional_Hourly]', markers=True)
            fig11 = px.line(rgnh, x='DateTime', color='Region', y='SDCCH Cong Rate (%)(%)', title='GSM: SDCCH Congestion Rate (%) [Regional_Hourly]', markers=True)   

    return [dcc.Graph(figure=fig1), dcc.Graph(figure=fig2), dcc.Graph(figure=fig3), dcc.Graph(figure=fig4), dcc.Graph(figure=fig5),
            dcc.Graph(figure=fig6), dcc.Graph(figure=fig7), dcc.Graph(figure=fig8), dcc.Graph(figure=fig9), dcc.Graph(figure=fig10),
            dcc.Graph(figure=fig11)]
                   
if __name__ == "__main__":
    app.run_server(host='localhost',debug=False, dev_tools_ui=False, dev_tools_props_check=False)  


U = pd.read_excel('GUL.xlsx', sheet_name='UMTS')


U.dtypes





from ipyfilechooser import FileChooser
fc.reset()
fc = FileChooser()
display(fc)


print(fc.selected_path)
print(fc.selected_filename)
print(fc.selected)




# Select file
fc = FileChooser()
file = fc.selected_filename
print(file)



