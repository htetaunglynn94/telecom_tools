{
 "cells": [
  {
   "cell_type": "code",
   "execution_count": 2,
   "metadata": {
    "colab": {
     "base_uri": "https://localhost:8080/"
    },
    "executionInfo": {
     "elapsed": 3571,
     "status": "ok",
     "timestamp": 1692764189482,
     "user": {
      "displayName": "thida san",
      "userId": "05751699714171344805"
     },
     "user_tz": -390
    },
    "id": "MHV3xwtIksAf",
    "outputId": "5a453d98-bd1e-4e3f-8186-0dfe8a388f68"
   },
   "outputs": [],
   "source": [
    "import pandas as pd\n",
    "import numpy as np\n",
    "import warnings\n",
    "from datetime import datetime as dt\n",
    "from timeit import default_timer as timer\n",
    "warnings.filterwarnings('ignore')\n",
    "# from google.colab import drive\n",
    "# drive.mount('/content/drive/')"
   ]
  },
  {
   "cell_type": "markdown",
   "metadata": {
    "id": "RlW7URddnPg8"
   },
   "source": [
    "# UMTS Impacted and Blocking Cell Identifier"
   ]
  },
  {
   "cell_type": "code",
   "execution_count": 5,
   "metadata": {
    "colab": {
     "base_uri": "https://localhost:8080/"
    },
    "executionInfo": {
     "elapsed": 156291,
     "status": "ok",
     "timestamp": 1692764407268,
     "user": {
      "displayName": "thida san",
      "userId": "05751699714171344805"
     },
     "user_tz": -390
    },
    "id": "-i72OH-HnPI8",
    "outputId": "30d0f15c-1323-49b2-d968-f21486518fa0"
   },
   "outputs": [
    {
     "name": "stdout",
     "output_type": "stream",
     "text": [
      "Total time usage: 0.13877795178333752 minutes\n",
      "Operation completed\n"
     ]
    }
   ],
   "source": [
    "#*****************************************************USER INPUT******************************************************\n",
    "# Report name (PRS): GUL Interference Analysis...._HAL\n",
    "# file = '/content/drive/MyDrive/Interference/GUL Interference Analysis for WN.xlsx'\n",
    "# output = '/content/drive/MyDrive/Interference'\n",
    "\n",
    "file = 'GUL Interference Analysis for KYN.xlsx'\n",
    "output = 'Interference//'\n",
    "#**********************************************************************************************************************\n",
    "\n",
    "# start_date = input('Start Date (YYYY-MM-DD):')\n",
    "# end_date = input('End Date (YYYY-MM-DD):')\n",
    "\n",
    "start_date = '2023-07-23'\n",
    "end_date = '2023-08-21'\n",
    "\n",
    "start_date = dt.strptime(start_date, '%Y-%m-%d').date()\n",
    "end_date = dt.strptime(end_date, '%Y-%m-%d').date()\n",
    "\n",
    "start = timer()\n",
    "def replace_sector(data):\n",
    "    if data == 'D':\n",
    "        return 'A'\n",
    "    elif data == 'E':\n",
    "        return 'B'\n",
    "    elif data == 'F':\n",
    "        return 'C'\n",
    "    else:\n",
    "        return data\n",
    "\n",
    "\n",
    "# Loading data\n",
    "u = pd.read_excel(file, sheet_name='UMTS', na_values=['NIL', '/0'], engine='openpyxl')\n",
    "u.dropna(inplace=True)\n",
    "\n",
    "# # Date range\n",
    "u['Date'] = pd.to_datetime(u['Date'])\n",
    "date_range = np.arange(start_date, end_date)\n",
    "u = u[u['Date'].isin(date_range)]\n",
    "\n",
    "# Necessary columns inserted\n",
    "u.insert(column='TCP Utilization(%)', loc=9, value=(10**(u['MeanTCP']/10)/1000)/(10**(u['Max Transmit Power of Cell (0.1dBm)']/100)/1000)*100)\n",
    "u.insert(column='Sector', loc=4, value=u['Cell Name'].str[10:11])\n",
    "u.insert(column='System', loc=3, value=u['Cell Name'].str[0:2])\n",
    "u.insert(column='Site', loc=4, value=u['Cell Name'].str[2:10])\n",
    "u.insert(column='New Sector', loc=4, value=u.apply(lambda x: replace_sector(x['Sector']), axis=1))\n",
    "u.insert(column='Sector Name', loc=4, value=u['Site'] + '_' + u['New Sector'])\n",
    "\n",
    "df_gp = u.groupby(['Sector Name','Cell Name', 'Site', 'Sector', 'New Sector', 'System']).agg(\n",
    "                {'Mean RTWP': np.mean,\n",
    "                 'TCP Utilization(%)': np.mean,\n",
    "                 'Cell Availability(%)': np.mean,\n",
    "             'Mute Call Ratio nom': np.sum}).reset_index()\n",
    "\n",
    "df_impact = df_gp[(df_gp['Cell Availability(%)'] > 0) & (df_gp['Mean RTWP'] >-95) & (df_gp['System'] == 'UN')].reset_index(drop=True)\n",
    "df_block = df_gp[(df_gp['Cell Availability(%)'] > 0) & (df_gp['Mean RTWP'] >-90) & (df_gp['System'] == 'UN')].reset_index(drop=True)\n",
    "sectors = list(df_block['Sector Name'].unique())\n",
    "\n",
    "df_sec = df_gp[df_gp['Sector Name'].isin(sectors)].reset_index(drop=True)\n",
    "df_pv = df_sec.pivot_table(index='Sector Name', columns=['System', 'Sector'], values='TCP Utilization(%)', aggfunc='mean')\n",
    "df_pv['Total'] = df_pv['UN'].sum(axis=1) + df_pv['UT'].sum(axis=1)\n",
    "propose_sectors = list(df_pv.loc[((df_pv['Total'] <= 80) & (df_pv['UT'].mean(axis=1).notnull()))].index)\n",
    "propose_sectors = df_gp.loc[df_gp['Sector Name'].isin(propose_sectors), :].reset_index(drop=True)\n",
    "impact_site_count = len(df_impact['Site'].unique())\n",
    "block_site_count = len(propose_sectors[(propose_sectors['System'] == 'UN')]['Site'].unique())\n",
    "summary = (pd.DataFrame({'Impact sites': impact_site_count, 'Propose to block': block_site_count},\n",
    "                        index=['Site count'])).T\n",
    "with pd.ExcelWriter(output+'/UMTS Blocking Proposal_HAL.xlsx') as writer:\n",
    "    summary.to_excel(writer, sheet_name='Summary')\n",
    "    df_impact.to_excel(writer, index=False, sheet_name='Impacted list')\n",
    "    propose_sectors.to_excel(writer, index=False, sheet_name='Blocking proposal')\n",
    "end = timer()\n",
    "print('Total time usage:', (end-start)/60, 'minutes')\n",
    "print('Operation completed')"
   ]
  },
  {
   "cell_type": "markdown",
   "metadata": {
    "id": "9PrlU9ialsya"
   },
   "source": [
    "# UMTS & LTE Blocking Site Counter"
   ]
  },
  {
   "cell_type": "code",
   "execution_count": 8,
   "metadata": {
    "id": "3hCZYbsjkwxr"
   },
   "outputs": [
    {
     "name": "stdout",
     "output_type": "stream",
     "text": [
      "Operation completed\n"
     ]
    }
   ],
   "source": [
    "#*****************************************************USER INPUT******************************************************\n",
    "# Blocking tracker\n",
    "record = 'Blocking cells list_v1.0 (update).xlsx'\n",
    "# Propose Cell list\n",
    "# propose = '/content/drive/MyDrive/Interference/Proposed Cells.xlsx'\n",
    "# output = '/content/drive/MyDrive/Interference'\n",
    "\n",
    "propose = 'Proposed Cells.xlsx'\n",
    "output = 'Interference//'\n",
    "#**********************************************************************************************************************\n",
    "\n",
    "\n",
    "summary = pd.DataFrame(data='', columns=['UMTS Site Counts', 'LTE Site Counts'], index=['Old blocked', 'New block'])\n",
    "rd = pd.read_excel(record, index_col='Sr. No')\n",
    "pp_u = pd.read_excel(propose, sheet_name='UMTS')\n",
    "pp_l = pd.read_excel(propose, sheet_name='LTE')\n",
    "\n",
    "# UMTS\n",
    "pp_u['UMTS Site Name'] = pp_u['Cell Name'].str[2:10]\n",
    "pp_u['Type'] = ''\n",
    "pp_u.loc[(pp_u['UMTS Site Name'].isin(rd[(rd['Techonology'] == 'UMTS')]['Site Name'])),'Type'] = 'Old'\n",
    "pp_u.loc[(~pp_u['UMTS Site Name'].isin(rd[(rd['Techonology'] == 'UMTS')]['Site Name'])),'Type'] = 'New'\n",
    "\n",
    "pp_u['UMTS Site Name'].isin(rd[(rd['Techonology'] == 'UMTS')]['Site Name'])\n",
    "to_block = len(pp_u[pp_u['Type'] == 'New']['UMTS Site Name'].unique())\n",
    "blocked = len(pp_u[pp_u['Type'] == 'Old']['UMTS Site Name'].unique())\n",
    "summary.loc[['Old blocked', 'New block'], 'UMTS Site Counts'] = [blocked, to_block]\n",
    "\n",
    "# LTE\n",
    "pp_l['LTE Site Name'] = pp_l['Cell Name'].str[2:10]\n",
    "pp_l['Type'] = ''\n",
    "pp_l.loc[(pp_l['LTE Site Name'].isin(rd[(rd['Techonology'] == 'LTE')]['Site Name'])),'Type'] = 'Old'\n",
    "pp_l.loc[(~pp_l['LTE Site Name'].isin(rd[(rd['Techonology'] == 'LTE')]['Site Name'])),'Type'] = 'New'\n",
    "\n",
    "pp_l['LTE Site Name'].isin(rd[(rd['Techonology'] == 'LTE')]['Site Name'])\n",
    "to_block = len(pp_l[pp_l['Type'] == 'New']['LTE Site Name'].unique())\n",
    "blocked = len(pp_l[pp_l['Type'] == 'Old']['LTE Site Name'].unique())\n",
    "summary.loc[['Old blocked', 'New block'], 'LTE Site Counts'] = [blocked, to_block]\n",
    "\n",
    "with pd.ExcelWriter(output+'/UMTS and LTE blocking site count_HAL.xlsx') as writer:\n",
    "    summary.to_excel(writer, sheet_name='Summary')\n",
    "    pp_u.to_excel(writer, sheet_name='UMTS Cell List', index=False)\n",
    "    pp_l.to_excel(writer, sheet_name='LTE Cell List', index=False)\n",
    "\n",
    "print('Operation completed')"
   ]
  },
  {
   "cell_type": "code",
   "execution_count": null,
   "metadata": {
    "id": "jFUeb0F3lrTV"
   },
   "outputs": [],
   "source": []
  }
 ],
 "metadata": {
  "colab": {
   "provenance": []
  },
  "kernelspec": {
   "display_name": "Python 3 (ipykernel)",
   "language": "python",
   "name": "python3"
  },
  "language_info": {
   "codemirror_mode": {
    "name": "ipython",
    "version": 3
   },
   "file_extension": ".py",
   "mimetype": "text/x-python",
   "name": "python",
   "nbconvert_exporter": "python",
   "pygments_lexer": "ipython3",
   "version": "3.11.7"
  }
 },
 "nbformat": 4,
 "nbformat_minor": 4
}
